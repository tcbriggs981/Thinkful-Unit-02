{
 "cells": [
  {
   "cell_type": "code",
   "execution_count": 1,
   "metadata": {},
   "outputs": [],
   "source": [
    "%matplotlib inline\n",
    "import numpy as np\n",
    "import pandas as pd\n",
    "import scipy\n",
    "import sklearn\n",
    "import matplotlib.pyplot as plt\n",
    "import seaborn as sns"
   ]
  },
  {
   "cell_type": "code",
   "execution_count": 2,
   "metadata": {
    "scrolled": false
   },
   "outputs": [
    {
     "data": {
      "text/html": [
       "<div>\n",
       "<style scoped>\n",
       "    .dataframe tbody tr th:only-of-type {\n",
       "        vertical-align: middle;\n",
       "    }\n",
       "\n",
       "    .dataframe tbody tr th {\n",
       "        vertical-align: top;\n",
       "    }\n",
       "\n",
       "    .dataframe thead th {\n",
       "        text-align: right;\n",
       "    }\n",
       "</style>\n",
       "<table border=\"1\" class=\"dataframe\">\n",
       "  <thead>\n",
       "    <tr style=\"text-align: right;\">\n",
       "      <th></th>\n",
       "      <th>review</th>\n",
       "      <th>negative</th>\n",
       "    </tr>\n",
       "  </thead>\n",
       "  <tbody>\n",
       "    <tr>\n",
       "      <th>0</th>\n",
       "      <td>Wow... Loved this place.</td>\n",
       "      <td>1</td>\n",
       "    </tr>\n",
       "    <tr>\n",
       "      <th>1</th>\n",
       "      <td>Crust is not good.</td>\n",
       "      <td>0</td>\n",
       "    </tr>\n",
       "    <tr>\n",
       "      <th>2</th>\n",
       "      <td>Not tasty and the texture was just nasty.</td>\n",
       "      <td>0</td>\n",
       "    </tr>\n",
       "    <tr>\n",
       "      <th>3</th>\n",
       "      <td>Stopped by during the late May bank holiday of...</td>\n",
       "      <td>1</td>\n",
       "    </tr>\n",
       "    <tr>\n",
       "      <th>4</th>\n",
       "      <td>The selection on the menu was great and so wer...</td>\n",
       "      <td>1</td>\n",
       "    </tr>\n",
       "  </tbody>\n",
       "</table>\n",
       "</div>"
      ],
      "text/plain": [
       "                                              review  negative\n",
       "0                           Wow... Loved this place.         1\n",
       "1                                 Crust is not good.         0\n",
       "2          Not tasty and the texture was just nasty.         0\n",
       "3  Stopped by during the late May bank holiday of...         1\n",
       "4  The selection on the menu was great and so wer...         1"
      ]
     },
     "execution_count": 2,
     "metadata": {},
     "output_type": "execute_result"
    }
   ],
   "source": [
    "# Grab and process the raw data.\n",
    "data_path = (\"yelp_labelled.txt\")\n",
    "yelp_raw = pd.read_csv(data_path, delimiter= '\\t', header=None)\n",
    "yelp_raw.columns = ['review', 'negative']\n",
    "\n",
    "yelp_raw.head()"
   ]
  },
  {
   "cell_type": "code",
   "execution_count": 29,
   "metadata": {},
   "outputs": [
    {
     "data": {
      "text/html": [
       "<div>\n",
       "<style scoped>\n",
       "    .dataframe tbody tr th:only-of-type {\n",
       "        vertical-align: middle;\n",
       "    }\n",
       "\n",
       "    .dataframe tbody tr th {\n",
       "        vertical-align: top;\n",
       "    }\n",
       "\n",
       "    .dataframe thead th {\n",
       "        text-align: right;\n",
       "    }\n",
       "</style>\n",
       "<table border=\"1\" class=\"dataframe\">\n",
       "  <thead>\n",
       "    <tr style=\"text-align: right;\">\n",
       "      <th></th>\n",
       "      <th>review</th>\n",
       "      <th>negative</th>\n",
       "      <th>bad</th>\n",
       "      <th>not good</th>\n",
       "      <th>disappointed</th>\n",
       "      <th>gross</th>\n",
       "      <th>dirty</th>\n",
       "      <th>bad service</th>\n",
       "      <th>rude</th>\n",
       "      <th>nasty</th>\n",
       "      <th>...</th>\n",
       "      <th>vomit</th>\n",
       "      <th>sick</th>\n",
       "      <th>flop</th>\n",
       "      <th>sucks</th>\n",
       "      <th>never</th>\n",
       "      <th>wasn't good</th>\n",
       "      <th>wasted</th>\n",
       "      <th>overpriced</th>\n",
       "      <th>manager</th>\n",
       "      <th>shocked</th>\n",
       "    </tr>\n",
       "  </thead>\n",
       "  <tbody>\n",
       "    <tr>\n",
       "      <th>0</th>\n",
       "      <td>Wow... Loved this place.</td>\n",
       "      <td>False</td>\n",
       "      <td>False</td>\n",
       "      <td>False</td>\n",
       "      <td>False</td>\n",
       "      <td>False</td>\n",
       "      <td>False</td>\n",
       "      <td>False</td>\n",
       "      <td>False</td>\n",
       "      <td>False</td>\n",
       "      <td>...</td>\n",
       "      <td>False</td>\n",
       "      <td>False</td>\n",
       "      <td>False</td>\n",
       "      <td>False</td>\n",
       "      <td>False</td>\n",
       "      <td>False</td>\n",
       "      <td>False</td>\n",
       "      <td>False</td>\n",
       "      <td>False</td>\n",
       "      <td>False</td>\n",
       "    </tr>\n",
       "    <tr>\n",
       "      <th>3</th>\n",
       "      <td>Stopped by during the late May bank holiday of...</td>\n",
       "      <td>False</td>\n",
       "      <td>False</td>\n",
       "      <td>False</td>\n",
       "      <td>False</td>\n",
       "      <td>False</td>\n",
       "      <td>False</td>\n",
       "      <td>False</td>\n",
       "      <td>False</td>\n",
       "      <td>False</td>\n",
       "      <td>...</td>\n",
       "      <td>False</td>\n",
       "      <td>False</td>\n",
       "      <td>False</td>\n",
       "      <td>False</td>\n",
       "      <td>False</td>\n",
       "      <td>False</td>\n",
       "      <td>False</td>\n",
       "      <td>False</td>\n",
       "      <td>False</td>\n",
       "      <td>False</td>\n",
       "    </tr>\n",
       "  </tbody>\n",
       "</table>\n",
       "<p>2 rows × 26 columns</p>\n",
       "</div>"
      ],
      "text/plain": [
       "                                              review  negative    bad  \\\n",
       "0                           Wow... Loved this place.     False  False   \n",
       "3  Stopped by during the late May bank holiday of...     False  False   \n",
       "\n",
       "   not good  disappointed  gross  dirty  bad service   rude  nasty   ...     \\\n",
       "0     False         False  False  False        False  False  False   ...      \n",
       "3     False         False  False  False        False  False  False   ...      \n",
       "\n",
       "   vomit   sick   flop  sucks  never  wasn't good  wasted  overpriced  \\\n",
       "0  False  False  False  False  False        False   False       False   \n",
       "3  False  False  False  False  False        False   False       False   \n",
       "\n",
       "   manager  shocked  \n",
       "0    False    False  \n",
       "3    False    False  \n",
       "\n",
       "[2 rows x 26 columns]"
      ]
     },
     "execution_count": 29,
     "metadata": {},
     "output_type": "execute_result"
    }
   ],
   "source": [
    "yelp_raw.loc[yelp_raw['negative']==0].head(2)"
   ]
  },
  {
   "cell_type": "code",
   "execution_count": 3,
   "metadata": {},
   "outputs": [],
   "source": [
    "neg_keywords = ['bad', 'not good', 'disappointed', 'gross', 'dirty', 'bad service', 'rude', 'nasty', 'not', 'poor',\n",
    "                'slow', 'awful', 'undercooked', 'lacked', 'vomit', 'sick', 'flop', 'sucks', 'never', \"wasn't good\",\n",
    "                'wasted', 'overpriced', 'poor', 'manager', 'shocked']\n",
    "\n",
    "pos_keywords = ['good', 'great', 'happy', 'clean', 'fast', 'would', 'polite', 'come back', 'recommend', 'quick',\n",
    "                'cute', 'yummy', 'beautiful', 'on time', 'flavorful', 'love', 'amazing', 'fav']\n",
    "\n",
    "yelp_pos = yelp_raw.copy()\n",
    "\n",
    "for key in neg_keywords:\n",
    "    # Note that we add spaces around the key so that we're getting the word,\n",
    "    # not just pattern matching.\n",
    "    yelp_raw[str(key)] = yelp_raw.review.str.contains(\n",
    "        str(key),\n",
    "        case=0\n",
    "    )\n",
    "    \n",
    "for key in pos_keywords:\n",
    "    # Note that we add spaces around the key so that we're getting the word,\n",
    "    # not just pattern matching.\n",
    "    yelp_pos[str(key)] = yelp_pos.review.str.contains(\n",
    "        str(key),\n",
    "        case=1\n",
    "    )"
   ]
  },
  {
   "cell_type": "code",
   "execution_count": 4,
   "metadata": {},
   "outputs": [],
   "source": [
    "yelp_raw['negative'] = (yelp_raw['negative'] == 0)\n",
    "# Note that if you run this cell a second time everything will become false.\n",
    "# So... Don't."
   ]
  },
  {
   "cell_type": "code",
   "execution_count": 5,
   "metadata": {},
   "outputs": [],
   "source": [
    "yelp_pos['negative'] = (yelp_pos['negative'] == 0)\n",
    "# Note that if you run this cell a second time everything will become false.\n",
    "# So... Don't."
   ]
  },
  {
   "cell_type": "code",
   "execution_count": 5,
   "metadata": {},
   "outputs": [
    {
     "data": {
      "text/html": [
       "<div>\n",
       "<style scoped>\n",
       "    .dataframe tbody tr th:only-of-type {\n",
       "        vertical-align: middle;\n",
       "    }\n",
       "\n",
       "    .dataframe tbody tr th {\n",
       "        vertical-align: top;\n",
       "    }\n",
       "\n",
       "    .dataframe thead th {\n",
       "        text-align: right;\n",
       "    }\n",
       "</style>\n",
       "<table border=\"1\" class=\"dataframe\">\n",
       "  <thead>\n",
       "    <tr style=\"text-align: right;\">\n",
       "      <th></th>\n",
       "      <th>review</th>\n",
       "      <th>negative</th>\n",
       "      <th>bad</th>\n",
       "      <th>not good</th>\n",
       "      <th>disappointed</th>\n",
       "      <th>gross</th>\n",
       "      <th>dirty</th>\n",
       "      <th>bad service</th>\n",
       "      <th>rude</th>\n",
       "      <th>nasty</th>\n",
       "      <th>...</th>\n",
       "      <th>vomit</th>\n",
       "      <th>sick</th>\n",
       "      <th>flop</th>\n",
       "      <th>sucks</th>\n",
       "      <th>never</th>\n",
       "      <th>wasn't good</th>\n",
       "      <th>wasted</th>\n",
       "      <th>overpriced</th>\n",
       "      <th>manager</th>\n",
       "      <th>shocked</th>\n",
       "    </tr>\n",
       "  </thead>\n",
       "  <tbody>\n",
       "    <tr>\n",
       "      <th>0</th>\n",
       "      <td>Wow... Loved this place.</td>\n",
       "      <td>False</td>\n",
       "      <td>False</td>\n",
       "      <td>False</td>\n",
       "      <td>False</td>\n",
       "      <td>False</td>\n",
       "      <td>False</td>\n",
       "      <td>False</td>\n",
       "      <td>False</td>\n",
       "      <td>False</td>\n",
       "      <td>...</td>\n",
       "      <td>False</td>\n",
       "      <td>False</td>\n",
       "      <td>False</td>\n",
       "      <td>False</td>\n",
       "      <td>False</td>\n",
       "      <td>False</td>\n",
       "      <td>False</td>\n",
       "      <td>False</td>\n",
       "      <td>False</td>\n",
       "      <td>False</td>\n",
       "    </tr>\n",
       "    <tr>\n",
       "      <th>1</th>\n",
       "      <td>Crust is not good.</td>\n",
       "      <td>True</td>\n",
       "      <td>False</td>\n",
       "      <td>True</td>\n",
       "      <td>False</td>\n",
       "      <td>False</td>\n",
       "      <td>False</td>\n",
       "      <td>False</td>\n",
       "      <td>False</td>\n",
       "      <td>False</td>\n",
       "      <td>...</td>\n",
       "      <td>False</td>\n",
       "      <td>False</td>\n",
       "      <td>False</td>\n",
       "      <td>False</td>\n",
       "      <td>False</td>\n",
       "      <td>False</td>\n",
       "      <td>False</td>\n",
       "      <td>False</td>\n",
       "      <td>False</td>\n",
       "      <td>False</td>\n",
       "    </tr>\n",
       "    <tr>\n",
       "      <th>2</th>\n",
       "      <td>Not tasty and the texture was just nasty.</td>\n",
       "      <td>True</td>\n",
       "      <td>False</td>\n",
       "      <td>False</td>\n",
       "      <td>False</td>\n",
       "      <td>False</td>\n",
       "      <td>False</td>\n",
       "      <td>False</td>\n",
       "      <td>False</td>\n",
       "      <td>True</td>\n",
       "      <td>...</td>\n",
       "      <td>False</td>\n",
       "      <td>False</td>\n",
       "      <td>False</td>\n",
       "      <td>False</td>\n",
       "      <td>False</td>\n",
       "      <td>False</td>\n",
       "      <td>False</td>\n",
       "      <td>False</td>\n",
       "      <td>False</td>\n",
       "      <td>False</td>\n",
       "    </tr>\n",
       "    <tr>\n",
       "      <th>3</th>\n",
       "      <td>Stopped by during the late May bank holiday of...</td>\n",
       "      <td>False</td>\n",
       "      <td>False</td>\n",
       "      <td>False</td>\n",
       "      <td>False</td>\n",
       "      <td>False</td>\n",
       "      <td>False</td>\n",
       "      <td>False</td>\n",
       "      <td>False</td>\n",
       "      <td>False</td>\n",
       "      <td>...</td>\n",
       "      <td>False</td>\n",
       "      <td>False</td>\n",
       "      <td>False</td>\n",
       "      <td>False</td>\n",
       "      <td>False</td>\n",
       "      <td>False</td>\n",
       "      <td>False</td>\n",
       "      <td>False</td>\n",
       "      <td>False</td>\n",
       "      <td>False</td>\n",
       "    </tr>\n",
       "    <tr>\n",
       "      <th>4</th>\n",
       "      <td>The selection on the menu was great and so wer...</td>\n",
       "      <td>False</td>\n",
       "      <td>False</td>\n",
       "      <td>False</td>\n",
       "      <td>False</td>\n",
       "      <td>False</td>\n",
       "      <td>False</td>\n",
       "      <td>False</td>\n",
       "      <td>False</td>\n",
       "      <td>False</td>\n",
       "      <td>...</td>\n",
       "      <td>False</td>\n",
       "      <td>False</td>\n",
       "      <td>False</td>\n",
       "      <td>False</td>\n",
       "      <td>False</td>\n",
       "      <td>False</td>\n",
       "      <td>False</td>\n",
       "      <td>False</td>\n",
       "      <td>False</td>\n",
       "      <td>False</td>\n",
       "    </tr>\n",
       "  </tbody>\n",
       "</table>\n",
       "<p>5 rows × 26 columns</p>\n",
       "</div>"
      ],
      "text/plain": [
       "                                              review  negative    bad  \\\n",
       "0                           Wow... Loved this place.     False  False   \n",
       "1                                 Crust is not good.      True  False   \n",
       "2          Not tasty and the texture was just nasty.      True  False   \n",
       "3  Stopped by during the late May bank holiday of...     False  False   \n",
       "4  The selection on the menu was great and so wer...     False  False   \n",
       "\n",
       "   not good  disappointed  gross  dirty  bad service   rude  nasty   ...     \\\n",
       "0     False         False  False  False        False  False  False   ...      \n",
       "1      True         False  False  False        False  False  False   ...      \n",
       "2     False         False  False  False        False  False   True   ...      \n",
       "3     False         False  False  False        False  False  False   ...      \n",
       "4     False         False  False  False        False  False  False   ...      \n",
       "\n",
       "   vomit   sick   flop  sucks  never  wasn't good  wasted  overpriced  \\\n",
       "0  False  False  False  False  False        False   False       False   \n",
       "1  False  False  False  False  False        False   False       False   \n",
       "2  False  False  False  False  False        False   False       False   \n",
       "3  False  False  False  False  False        False   False       False   \n",
       "4  False  False  False  False  False        False   False       False   \n",
       "\n",
       "   manager  shocked  \n",
       "0    False    False  \n",
       "1    False    False  \n",
       "2    False    False  \n",
       "3    False    False  \n",
       "4    False    False  \n",
       "\n",
       "[5 rows x 26 columns]"
      ]
     },
     "execution_count": 5,
     "metadata": {},
     "output_type": "execute_result"
    }
   ],
   "source": [
    "yelp_raw.head()"
   ]
  },
  {
   "cell_type": "markdown",
   "metadata": {},
   "source": [
    "### Heatmap of DataFrame Correlation Map\n",
    "The heatmap shows most features are barely correlated with each other, if at all. This demonstrates suitability for the Naive Bayes Classifier Model."
   ]
  },
  {
   "cell_type": "code",
   "execution_count": 6,
   "metadata": {},
   "outputs": [
    {
     "data": {
      "image/png": "[encoded data removed]",
      "text/plain": [
       "<Figure size 360x360 with 2 Axes>"
      ]
     },
     "metadata": {},
     "output_type": "display_data"
    },
    {
     "data": {
      "image/png": "[encoded data removed]",
      "text/plain": [
       "<Figure size 360x360 with 2 Axes>"
      ]
     },
     "metadata": {},
     "output_type": "display_data"
    }
   ],
   "source": [
    "\n",
    "sns.set_style(\"darkgrid\")\n",
    "plt.figure(figsize=(5,5))\n",
    "cmap = sns.diverging_palette(220, 10, as_cmap=True)\n",
    "sns.heatmap(yelp_raw.corr(), square=True, cmap=cmap, center=0)\n",
    "plt.show()\n",
    "\n",
    "sns.set_style(\"darkgrid\")\n",
    "plt.figure(figsize=(5,5))\n",
    "cmap = sns.diverging_palette(220, 10, as_cmap=True)\n",
    "sns.heatmap(yelp_pos.corr(), square=True, cmap=cmap, center=0)\n",
    "plt.show()"
   ]
  },
  {
   "cell_type": "code",
   "execution_count": 12,
   "metadata": {},
   "outputs": [],
   "source": [
    "data = yelp_raw[neg_keywords]\n",
    "target = yelp_raw['negative']\n",
    "\n",
    "data_p = yelp_pos[pos_keywords]\n",
    "target_p = yelp_pos['negative']"
   ]
  },
  {
   "cell_type": "markdown",
   "metadata": {},
   "source": [
    "### Run the Model"
   ]
  },
  {
   "cell_type": "code",
   "execution_count": 26,
   "metadata": {},
   "outputs": [
    {
     "name": "stdout",
     "output_type": "stream",
     "text": [
      "Negative Words: Number of mislabeled points out of a total 1000 points : 324\n",
      "\n",
      "Positive Words: Number of mislabeled points out of a total 1000 points : 338\n"
     ]
    }
   ],
   "source": [
    "# Our data is binary / boolean, so we're importing the Bernoulli classifier.\n",
    "from sklearn.naive_bayes import BernoulliNB\n",
    "\n",
    "# Instantiate our model and store it in a new variable.\n",
    "bnb = BernoulliNB()\n",
    "\n",
    "# Fit our model to the data.\n",
    "bnb.fit(data, target)\n",
    "\n",
    "# Classify, storing the result in a new variable.\n",
    "y_pred = bnb.predict(data)\n",
    "\n",
    "# Display our results.\n",
    "print(\"Negative Words: Number of mislabeled points out of a total {} points : {}\".format(\n",
    "    data.shape[0],\n",
    "    (target != y_pred).sum()\n",
    "))\n",
    "\n",
    "# with positive words\n",
    "bnb = BernoulliNB()\n",
    "bnb.fit(data_p, target_p)\n",
    "y_pred_p = bnb.predict(data_p)\n",
    "print(\"\\nPositive Words: Number of mislabeled points out of a total {} points : {}\".format(\n",
    "    data_p.shape[0],\n",
    "    (target != y_pred_p).sum()\n",
    "))"
   ]
  },
  {
   "cell_type": "code",
   "execution_count": 25,
   "metadata": {},
   "outputs": [
    {
     "name": "stdout",
     "output_type": "stream",
     "text": [
      "Negative Words:\n",
      "With 20% Holdout: 0.64\n",
      "Testing on Sample: 0.676\n",
      "\n",
      "Positive Words:\n",
      "With 20% Holdout: 0.655\n",
      "Testing on Sample: 0.662\n"
     ]
    }
   ],
   "source": [
    "# Test your model with different holdout groups.\n",
    "\n",
    "from sklearn.model_selection import train_test_split\n",
    "# Use train_test_split to create the necessary training and test groups\n",
    "X_train, X_test, y_train, y_test = train_test_split(data, target, test_size=0.2, random_state=20)\n",
    "print('Negative Words:')\n",
    "print('With 20% Holdout: ' + str(bnb.fit(X_train, y_train).score(X_test, y_test)))\n",
    "print('Testing on Sample: ' + str(bnb.fit(data, target).score(data, target)))\n",
    "\n",
    "from sklearn.model_selection import train_test_split\n",
    "# Use train_test_split to create the necessary training and test groups\n",
    "X_train_p, X_test_p, y_train_p, y_test_p = train_test_split(data_p, target_p, test_size=0.2, random_state=20)\n",
    "print('\\nPositive Words:')\n",
    "print('With 20% Holdout: ' + str(bnb.fit(X_train_p, y_train_p).score(X_test_p, y_test_p)))\n",
    "print('Testing on Sample: ' + str(bnb.fit(data_p, target_p).score(data_p, target_p)))"
   ]
  },
  {
   "cell_type": "markdown",
   "metadata": {},
   "source": [
    "### f1 Score"
   ]
  },
  {
   "cell_type": "code",
   "execution_count": 24,
   "metadata": {},
   "outputs": [
    {
     "name": "stdout",
     "output_type": "stream",
     "text": [
      "Negative Words:\n",
      "Your model achieved an f1-score of 0.5597826086956521\n",
      "\n",
      "Positive Words:\n",
      "Your model achieved an f1-score of 0.7325949367088608\n"
     ]
    }
   ],
   "source": [
    "from sklearn import metrics\n",
    "\n",
    "score = metrics.f1_score(yelp_raw[\"negative\"], y_pred)\n",
    "print('Negative Words:')\n",
    "print(\"Your model achieved an f1-score of \" + str(score))\n",
    "\n",
    "score_p = metrics.f1_score(yelp_pos[\"negative\"], y_pred_p)\n",
    "print('\\nPositive Words:')\n",
    "print(\"Your model achieved an f1-score of \" + str(score_p))"
   ]
  },
  {
   "cell_type": "markdown",
   "metadata": {},
   "source": [
    "### Confusion Matrix"
   ]
  },
  {
   "cell_type": "code",
   "execution_count": 22,
   "metadata": {},
   "outputs": [
    {
     "name": "stdout",
     "output_type": "stream",
     "text": [
      "Negative Words:\n",
      "confusion matrix:\n",
      "[[470  30]\n",
      " [294 206]]\n",
      "\n",
      "Positive Words:\n",
      "confusion matrix:\n",
      "[[199 301]\n",
      " [ 37 463]]\n"
     ]
    }
   ],
   "source": [
    "from sklearn.metrics import confusion_matrix, matthews_corrcoef\n",
    "print('Negative Words:')\n",
    "print(\"confusion matrix:\")\n",
    "print(confusion_matrix(yelp_raw[\"negative\"], y_pred))\n",
    "\n",
    "print('\\nPositive Words:')\n",
    "print(\"confusion matrix:\")\n",
    "print(confusion_matrix(yelp_pos[\"negative\"], y_pred_p))"
   ]
  },
  {
   "cell_type": "markdown",
   "metadata": {},
   "source": [
    "### Cross Validation"
   ]
  },
  {
   "cell_type": "code",
   "execution_count": 23,
   "metadata": {},
   "outputs": [
    {
     "name": "stdout",
     "output_type": "stream",
     "text": [
      "Negative Words:\n",
      "cross-validation scores:\n",
      "[0.71 0.62 0.73 0.65 0.63 0.69 0.72 0.65 0.67 0.64]\n",
      "0.4144861154561593\n",
      "\n",
      "Positive Words:\n",
      "cross-validation scores:\n",
      "[0.65 0.67 0.65 0.68 0.67 0.61 0.63 0.66 0.62 0.74]\n",
      "0.3815156289994194\n"
     ]
    }
   ],
   "source": [
    "from sklearn.model_selection import cross_val_score\n",
    "print('Negative Words:')\n",
    "print(\"cross-validation scores:\")\n",
    "print(cross_val_score(bnb, data, target, cv=10))\n",
    "print(matthews_corrcoef(yelp_raw[\"negative\"], y_pred))\n",
    "\n",
    "\n",
    "print('\\nPositive Words:')\n",
    "print(\"cross-validation scores:\")\n",
    "print(cross_val_score(bnb, data_p, target_p, cv=10))\n",
    "print(matthews_corrcoef(yelp_pos[\"negative\"], y_pred_p))"
   ]
  },
  {
   "cell_type": "markdown",
   "metadata": {},
   "source": [
    "### Sensitivity"
   ]
  },
  {
   "cell_type": "code",
   "execution_count": 21,
   "metadata": {},
   "outputs": [
    {
     "name": "stdout",
     "output_type": "stream",
     "text": [
      "Negative Words:\n",
      "Sensitivity: 0.94\n",
      "\n",
      "Positive Words:\n",
      "Sensitivity: 0.398\n"
     ]
    }
   ],
   "source": [
    "# Here we are defining a positive as a FALSE result \n",
    "# (since the model is determining whether an e-mail is GENUINE) so we will \n",
    "# use that in the calculation instead of 'True':\n",
    "\n",
    "posco = ((target==True) & (y_pred==True)).sum()\n",
    "posinco = ((target==True) & (y_pred==False)).sum()\n",
    "negco = ((target==False) & (y_pred==False)).sum()\n",
    "neginco = ((target==False) & (y_pred==True)).sum()\n",
    "\n",
    "posco_p = ((target_p==True) & (y_pred_p==True)).sum()\n",
    "posinco_p = ((target_p==True) & (y_pred_p==False)).sum()\n",
    "negco_p = ((target_p==False) & (y_pred_p==False)).sum()\n",
    "neginco_p = ((target_p==False) & (y_pred_p==True)).sum()\n",
    "\n",
    "print('Negative Words:')\n",
    "print('Sensitivity:', negco/(negco + neginco))\n",
    "\n",
    "print('\\nPositive Words:')\n",
    "print('Sensitivity:', negco_p/(negco_p + neginco_p))"
   ]
  },
  {
   "cell_type": "markdown",
   "metadata": {},
   "source": [
    "### Specificity - defined as the percentage of negatives correctly identified"
   ]
  },
  {
   "cell_type": "code",
   "execution_count": 27,
   "metadata": {},
   "outputs": [
    {
     "name": "stdout",
     "output_type": "stream",
     "text": [
      "Negative Words:\n",
      "Specificity: 0.412\n",
      "\n",
      "Positive Words:\n",
      "Specificity: 0.926\n"
     ]
    }
   ],
   "source": [
    "# Defined as the converse of sensitivity\n",
    "\n",
    "print('Negative Words:')\n",
    "print('Specificity:', posco/(posco + posinco))\n",
    "\n",
    "print('\\nPositive Words:')\n",
    "print('Specificity:', posco_p/(posco_p + posinco_p))"
   ]
  },
  {
   "cell_type": "markdown",
   "metadata": {},
   "source": [
    "### Conclusion\n",
    "\n",
    "While both models seemed to perform similarly in the number of mislabeled points, when testing with positive words the outcome mislabels far less and ends up being both far less sensitive and much more specific. \n",
    "\n",
    "I had origininally thought that negative words would be a more accurate route because they are easier to spot out and I had assumed negative reviews would use stronger language, but it seems to be the opposite. That when posting a positive review, reviewers use more positive language then the would use negative language in a negative review."
   ]
  },
  {
   "cell_type": "code",
   "execution_count": null,
   "metadata": {},
   "outputs": [],
   "source": []
  }
 ],
 "metadata": {
  "kernelspec": {
   "display_name": "Python 3",
   "language": "python",
   "name": "python3"
  },
  "language_info": {
   "codemirror_mode": {
    "name": "ipython",
    "version": 3
   },
   "file_extension": ".py",
   "mimetype": "text/x-python",
   "name": "python",
   "nbconvert_exporter": "python",
   "pygments_lexer": "ipython3",
   "version": "3.7.0"
  }
 },
 "nbformat": 4,
 "nbformat_minor": 2
}
