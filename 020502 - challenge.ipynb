{
 "cells": [
  {
   "cell_type": "code",
   "execution_count": 75,
   "metadata": {},
   "outputs": [],
   "source": [
    "import pandas as pd\n",
    "from matplotlib import pyplot as plt\n",
    "import numpy as np\n",
    "from sklearn import linear_model\n",
    "import seaborn as sns\n",
    "%matplotlib inline\n",
    "pd.options.display.float_format = '{:.3f}'.format\n",
    "sns.set_style(\"darkgrid\")\n",
    "\n",
    "# Suppress annoying harmless error.\n",
    "import warnings\n",
    "warnings.filterwarnings(action=\"ignore\", module=\"scipy\", message=\"^internal gelsd\")"
   ]
  },
  {
   "cell_type": "markdown",
   "metadata": {},
   "source": [
    "### View the data"
   ]
  },
  {
   "cell_type": "code",
   "execution_count": 76,
   "metadata": {
    "scrolled": true
   },
   "outputs": [
    {
     "data": {
      "text/html": [
       "<div>\n",
       "<style scoped>\n",
       "    .dataframe tbody tr th:only-of-type {\n",
       "        vertical-align: middle;\n",
       "    }\n",
       "\n",
       "    .dataframe tbody tr th {\n",
       "        vertical-align: top;\n",
       "    }\n",
       "\n",
       "    .dataframe thead th {\n",
       "        text-align: right;\n",
       "    }\n",
       "</style>\n",
       "<table border=\"1\" class=\"dataframe\">\n",
       "  <thead>\n",
       "    <tr style=\"text-align: right;\">\n",
       "      <th></th>\n",
       "      <th>City</th>\n",
       "      <th>Population</th>\n",
       "      <th>Violent\n",
       "crime</th>\n",
       "      <th>Murder and\n",
       "nonnegligent\n",
       "manslaughter</th>\n",
       "      <th>Rape\n",
       "(revised\n",
       "definition)1</th>\n",
       "      <th>Rape\n",
       "(legacy\n",
       "definition)2</th>\n",
       "      <th>Robbery</th>\n",
       "      <th>Aggravated\n",
       "assault</th>\n",
       "      <th>Property\n",
       "crime</th>\n",
       "      <th>Burglary</th>\n",
       "      <th>Larceny-\n",
       "theft</th>\n",
       "      <th>Motor\n",
       "vehicle\n",
       "theft</th>\n",
       "      <th>Arson3</th>\n",
       "    </tr>\n",
       "  </thead>\n",
       "  <tbody>\n",
       "    <tr>\n",
       "      <th>0</th>\n",
       "      <td>Adams Village</td>\n",
       "      <td>1861.000</td>\n",
       "      <td>0.000</td>\n",
       "      <td>0.000</td>\n",
       "      <td>nan</td>\n",
       "      <td>0.000</td>\n",
       "      <td>0.000</td>\n",
       "      <td>0.000</td>\n",
       "      <td>12.000</td>\n",
       "      <td>2.000</td>\n",
       "      <td>10.000</td>\n",
       "      <td>0.000</td>\n",
       "      <td>0.000</td>\n",
       "    </tr>\n",
       "    <tr>\n",
       "      <th>1</th>\n",
       "      <td>Addison Town and Village</td>\n",
       "      <td>2577.000</td>\n",
       "      <td>3.000</td>\n",
       "      <td>0.000</td>\n",
       "      <td>nan</td>\n",
       "      <td>0.000</td>\n",
       "      <td>0.000</td>\n",
       "      <td>3.000</td>\n",
       "      <td>24.000</td>\n",
       "      <td>3.000</td>\n",
       "      <td>20.000</td>\n",
       "      <td>1.000</td>\n",
       "      <td>0.000</td>\n",
       "    </tr>\n",
       "    <tr>\n",
       "      <th>2</th>\n",
       "      <td>Akron Village</td>\n",
       "      <td>2846.000</td>\n",
       "      <td>3.000</td>\n",
       "      <td>0.000</td>\n",
       "      <td>nan</td>\n",
       "      <td>0.000</td>\n",
       "      <td>0.000</td>\n",
       "      <td>3.000</td>\n",
       "      <td>16.000</td>\n",
       "      <td>1.000</td>\n",
       "      <td>15.000</td>\n",
       "      <td>0.000</td>\n",
       "      <td>0.000</td>\n",
       "    </tr>\n",
       "    <tr>\n",
       "      <th>3</th>\n",
       "      <td>Albany</td>\n",
       "      <td>97956.000</td>\n",
       "      <td>791.000</td>\n",
       "      <td>8.000</td>\n",
       "      <td>nan</td>\n",
       "      <td>30.000</td>\n",
       "      <td>227.000</td>\n",
       "      <td>526.000</td>\n",
       "      <td>4090.000</td>\n",
       "      <td>705.000</td>\n",
       "      <td>3243.000</td>\n",
       "      <td>142.000</td>\n",
       "      <td>nan</td>\n",
       "    </tr>\n",
       "    <tr>\n",
       "      <th>4</th>\n",
       "      <td>Albion Village</td>\n",
       "      <td>6388.000</td>\n",
       "      <td>23.000</td>\n",
       "      <td>0.000</td>\n",
       "      <td>nan</td>\n",
       "      <td>3.000</td>\n",
       "      <td>4.000</td>\n",
       "      <td>16.000</td>\n",
       "      <td>223.000</td>\n",
       "      <td>53.000</td>\n",
       "      <td>165.000</td>\n",
       "      <td>5.000</td>\n",
       "      <td>nan</td>\n",
       "    </tr>\n",
       "  </tbody>\n",
       "</table>\n",
       "</div>"
      ],
      "text/plain": [
       "                       City  Population  Violent\\ncrime  \\\n",
       "0             Adams Village    1861.000           0.000   \n",
       "1  Addison Town and Village    2577.000           3.000   \n",
       "2             Akron Village    2846.000           3.000   \n",
       "3                    Albany   97956.000         791.000   \n",
       "4            Albion Village    6388.000          23.000   \n",
       "\n",
       "   Murder and\\nnonnegligent\\nmanslaughter  Rape\\n(revised\\ndefinition)1  \\\n",
       "0                                   0.000                           nan   \n",
       "1                                   0.000                           nan   \n",
       "2                                   0.000                           nan   \n",
       "3                                   8.000                           nan   \n",
       "4                                   0.000                           nan   \n",
       "\n",
       "   Rape\\n(legacy\\ndefinition)2  Robbery  Aggravated\\nassault  Property\\ncrime  \\\n",
       "0                        0.000    0.000                0.000           12.000   \n",
       "1                        0.000    0.000                3.000           24.000   \n",
       "2                        0.000    0.000                3.000           16.000   \n",
       "3                       30.000  227.000              526.000         4090.000   \n",
       "4                        3.000    4.000               16.000          223.000   \n",
       "\n",
       "   Burglary  Larceny-\\ntheft  Motor\\nvehicle\\ntheft  Arson3  \n",
       "0     2.000           10.000                  0.000   0.000  \n",
       "1     3.000           20.000                  1.000   0.000  \n",
       "2     1.000           15.000                  0.000   0.000  \n",
       "3   705.000         3243.000                142.000     nan  \n",
       "4    53.000          165.000                  5.000     nan  "
      ]
     },
     "execution_count": 76,
     "metadata": {},
     "output_type": "execute_result"
    }
   ],
   "source": [
    "df = pd.read_excel('table_8_offenses_known_to_law_enforcement_new_york_by_city_2013.xls')\n",
    "\n",
    "df.head()"
   ]
  },
  {
   "cell_type": "markdown",
   "metadata": {},
   "source": [
    "### Clean the data"
   ]
  },
  {
   "cell_type": "code",
   "execution_count": 77,
   "metadata": {},
   "outputs": [
    {
     "data": {
      "text/html": [
       "<div>\n",
       "<style scoped>\n",
       "    .dataframe tbody tr th:only-of-type {\n",
       "        vertical-align: middle;\n",
       "    }\n",
       "\n",
       "    .dataframe tbody tr th {\n",
       "        vertical-align: top;\n",
       "    }\n",
       "\n",
       "    .dataframe thead th {\n",
       "        text-align: right;\n",
       "    }\n",
       "</style>\n",
       "<table border=\"1\" class=\"dataframe\">\n",
       "  <thead>\n",
       "    <tr style=\"text-align: right;\">\n",
       "      <th></th>\n",
       "      <th>city</th>\n",
       "      <th>population</th>\n",
       "      <th>violent</th>\n",
       "      <th>murder</th>\n",
       "      <th>rape1</th>\n",
       "      <th>rape2</th>\n",
       "      <th>robbery</th>\n",
       "      <th>ag_aslt</th>\n",
       "      <th>property</th>\n",
       "      <th>burglary</th>\n",
       "      <th>larce-th</th>\n",
       "      <th>motor_th</th>\n",
       "      <th>arson3</th>\n",
       "    </tr>\n",
       "  </thead>\n",
       "  <tbody>\n",
       "    <tr>\n",
       "      <th>0</th>\n",
       "      <td>Adams Village</td>\n",
       "      <td>1861.000</td>\n",
       "      <td>0.000</td>\n",
       "      <td>0.000</td>\n",
       "      <td>nan</td>\n",
       "      <td>0.000</td>\n",
       "      <td>0.000</td>\n",
       "      <td>0.000</td>\n",
       "      <td>12.000</td>\n",
       "      <td>2.000</td>\n",
       "      <td>10.000</td>\n",
       "      <td>0.000</td>\n",
       "      <td>0.000</td>\n",
       "    </tr>\n",
       "    <tr>\n",
       "      <th>1</th>\n",
       "      <td>Addison Town and Village</td>\n",
       "      <td>2577.000</td>\n",
       "      <td>3.000</td>\n",
       "      <td>0.000</td>\n",
       "      <td>nan</td>\n",
       "      <td>0.000</td>\n",
       "      <td>0.000</td>\n",
       "      <td>3.000</td>\n",
       "      <td>24.000</td>\n",
       "      <td>3.000</td>\n",
       "      <td>20.000</td>\n",
       "      <td>1.000</td>\n",
       "      <td>0.000</td>\n",
       "    </tr>\n",
       "    <tr>\n",
       "      <th>2</th>\n",
       "      <td>Akron Village</td>\n",
       "      <td>2846.000</td>\n",
       "      <td>3.000</td>\n",
       "      <td>0.000</td>\n",
       "      <td>nan</td>\n",
       "      <td>0.000</td>\n",
       "      <td>0.000</td>\n",
       "      <td>3.000</td>\n",
       "      <td>16.000</td>\n",
       "      <td>1.000</td>\n",
       "      <td>15.000</td>\n",
       "      <td>0.000</td>\n",
       "      <td>0.000</td>\n",
       "    </tr>\n",
       "    <tr>\n",
       "      <th>3</th>\n",
       "      <td>Albany</td>\n",
       "      <td>97956.000</td>\n",
       "      <td>791.000</td>\n",
       "      <td>8.000</td>\n",
       "      <td>nan</td>\n",
       "      <td>30.000</td>\n",
       "      <td>227.000</td>\n",
       "      <td>526.000</td>\n",
       "      <td>4090.000</td>\n",
       "      <td>705.000</td>\n",
       "      <td>3243.000</td>\n",
       "      <td>142.000</td>\n",
       "      <td>nan</td>\n",
       "    </tr>\n",
       "    <tr>\n",
       "      <th>4</th>\n",
       "      <td>Albion Village</td>\n",
       "      <td>6388.000</td>\n",
       "      <td>23.000</td>\n",
       "      <td>0.000</td>\n",
       "      <td>nan</td>\n",
       "      <td>3.000</td>\n",
       "      <td>4.000</td>\n",
       "      <td>16.000</td>\n",
       "      <td>223.000</td>\n",
       "      <td>53.000</td>\n",
       "      <td>165.000</td>\n",
       "      <td>5.000</td>\n",
       "      <td>nan</td>\n",
       "    </tr>\n",
       "  </tbody>\n",
       "</table>\n",
       "</div>"
      ],
      "text/plain": [
       "                       city  population  violent  murder  rape1  rape2  \\\n",
       "0             Adams Village    1861.000    0.000   0.000    nan  0.000   \n",
       "1  Addison Town and Village    2577.000    3.000   0.000    nan  0.000   \n",
       "2             Akron Village    2846.000    3.000   0.000    nan  0.000   \n",
       "3                    Albany   97956.000  791.000   8.000    nan 30.000   \n",
       "4            Albion Village    6388.000   23.000   0.000    nan  3.000   \n",
       "\n",
       "   robbery  ag_aslt  property  burglary  larce-th  motor_th  arson3  \n",
       "0    0.000    0.000    12.000     2.000    10.000     0.000   0.000  \n",
       "1    0.000    3.000    24.000     3.000    20.000     1.000   0.000  \n",
       "2    0.000    3.000    16.000     1.000    15.000     0.000   0.000  \n",
       "3  227.000  526.000  4090.000   705.000  3243.000   142.000     nan  \n",
       "4    4.000   16.000   223.000    53.000   165.000     5.000     nan  "
      ]
     },
     "execution_count": 77,
     "metadata": {},
     "output_type": "execute_result"
    }
   ],
   "source": [
    "df.columns = ['city', 'population', 'violent', 'murder', 'rape1', 'rape2', 'robbery', \n",
    "              'ag_aslt', 'property', 'burglary', 'larce-th', 'motor_th', 'arson3']\n",
    "\n",
    "df.head()"
   ]
  },
  {
   "cell_type": "markdown",
   "metadata": {},
   "source": [
    "### Let's see if there is any relationship\n",
    "\n",
    "Check to see if murders or robberies relate to property at all"
   ]
  },
  {
   "cell_type": "code",
   "execution_count": 78,
   "metadata": {},
   "outputs": [
    {
     "data": {
      "image/png": "[encoded data removed]",
      "text/plain": [
       "<Figure size 1440x432 with 2 Axes>"
      ]
     },
     "metadata": {},
     "output_type": "display_data"
    }
   ],
   "source": [
    "plt.figure(figsize=(20, 6))\n",
    "plt.subplot(1,2,1)\n",
    "plt.scatter(x='property', y='murder', data=df)\n",
    "plt.xlabel('property')\n",
    "plt.ylabel('murders')\n",
    "plt.subplot(1,2,2)\n",
    "plt.scatter(x='property', y='robbery', data=df)\n",
    "plt.xlabel('property')\n",
    "plt.ylabel('robberies')\n",
    "plt.show()"
   ]
  },
  {
   "cell_type": "markdown",
   "metadata": {},
   "source": [
    "### Let's remove some outliers"
   ]
  },
  {
   "cell_type": "code",
   "execution_count": 79,
   "metadata": {
    "scrolled": true
   },
   "outputs": [
    {
     "data": {
      "text/html": [
       "<div>\n",
       "<style scoped>\n",
       "    .dataframe tbody tr th:only-of-type {\n",
       "        vertical-align: middle;\n",
       "    }\n",
       "\n",
       "    .dataframe tbody tr th {\n",
       "        vertical-align: top;\n",
       "    }\n",
       "\n",
       "    .dataframe thead th {\n",
       "        text-align: right;\n",
       "    }\n",
       "</style>\n",
       "<table border=\"1\" class=\"dataframe\">\n",
       "  <thead>\n",
       "    <tr style=\"text-align: right;\">\n",
       "      <th></th>\n",
       "      <th>city</th>\n",
       "      <th>population</th>\n",
       "      <th>violent</th>\n",
       "      <th>murder</th>\n",
       "      <th>rape1</th>\n",
       "      <th>rape2</th>\n",
       "      <th>robbery</th>\n",
       "      <th>ag_aslt</th>\n",
       "      <th>property</th>\n",
       "      <th>burglary</th>\n",
       "      <th>larce-th</th>\n",
       "      <th>motor_th</th>\n",
       "      <th>arson3</th>\n",
       "    </tr>\n",
       "  </thead>\n",
       "  <tbody>\n",
       "    <tr>\n",
       "      <th>216</th>\n",
       "      <td>New York</td>\n",
       "      <td>8396126.000</td>\n",
       "      <td>52384.000</td>\n",
       "      <td>335.000</td>\n",
       "      <td>nan</td>\n",
       "      <td>1112.000</td>\n",
       "      <td>19170.000</td>\n",
       "      <td>31767.000</td>\n",
       "      <td>141971.000</td>\n",
       "      <td>16606.000</td>\n",
       "      <td>117931.000</td>\n",
       "      <td>7434.000</td>\n",
       "      <td>nan</td>\n",
       "    </tr>\n",
       "    <tr>\n",
       "      <th>35</th>\n",
       "      <td>Buffalo</td>\n",
       "      <td>258789.000</td>\n",
       "      <td>3249.000</td>\n",
       "      <td>47.000</td>\n",
       "      <td>nan</td>\n",
       "      <td>145.000</td>\n",
       "      <td>1322.000</td>\n",
       "      <td>1735.000</td>\n",
       "      <td>12491.000</td>\n",
       "      <td>3458.000</td>\n",
       "      <td>8076.000</td>\n",
       "      <td>957.000</td>\n",
       "      <td>nan</td>\n",
       "    </tr>\n",
       "    <tr>\n",
       "      <th>272</th>\n",
       "      <td>Rochester</td>\n",
       "      <td>210562.000</td>\n",
       "      <td>2107.000</td>\n",
       "      <td>42.000</td>\n",
       "      <td>nan</td>\n",
       "      <td>92.000</td>\n",
       "      <td>918.000</td>\n",
       "      <td>1055.000</td>\n",
       "      <td>10051.000</td>\n",
       "      <td>2587.000</td>\n",
       "      <td>6855.000</td>\n",
       "      <td>609.000</td>\n",
       "      <td>132.000</td>\n",
       "    </tr>\n",
       "    <tr>\n",
       "      <th>346</th>\n",
       "      <td>Yonkers</td>\n",
       "      <td>199134.000</td>\n",
       "      <td>1036.000</td>\n",
       "      <td>6.000</td>\n",
       "      <td>nan</td>\n",
       "      <td>25.000</td>\n",
       "      <td>390.000</td>\n",
       "      <td>615.000</td>\n",
       "      <td>2368.000</td>\n",
       "      <td>470.000</td>\n",
       "      <td>1662.000</td>\n",
       "      <td>236.000</td>\n",
       "      <td>10.000</td>\n",
       "    </tr>\n",
       "    <tr>\n",
       "      <th>310</th>\n",
       "      <td>Syracuse</td>\n",
       "      <td>143834.000</td>\n",
       "      <td>1192.000</td>\n",
       "      <td>21.000</td>\n",
       "      <td>nan</td>\n",
       "      <td>75.000</td>\n",
       "      <td>400.000</td>\n",
       "      <td>696.000</td>\n",
       "      <td>6473.000</td>\n",
       "      <td>1781.000</td>\n",
       "      <td>4298.000</td>\n",
       "      <td>394.000</td>\n",
       "      <td>57.000</td>\n",
       "    </tr>\n",
       "  </tbody>\n",
       "</table>\n",
       "</div>"
      ],
      "text/plain": [
       "          city  population   violent  murder  rape1    rape2   robbery  \\\n",
       "216   New York 8396126.000 52384.000 335.000    nan 1112.000 19170.000   \n",
       "35     Buffalo  258789.000  3249.000  47.000    nan  145.000  1322.000   \n",
       "272  Rochester  210562.000  2107.000  42.000    nan   92.000   918.000   \n",
       "346    Yonkers  199134.000  1036.000   6.000    nan   25.000   390.000   \n",
       "310   Syracuse  143834.000  1192.000  21.000    nan   75.000   400.000   \n",
       "\n",
       "      ag_aslt   property  burglary   larce-th  motor_th  arson3  \n",
       "216 31767.000 141971.000 16606.000 117931.000  7434.000     nan  \n",
       "35   1735.000  12491.000  3458.000   8076.000   957.000     nan  \n",
       "272  1055.000  10051.000  2587.000   6855.000   609.000 132.000  \n",
       "346   615.000   2368.000   470.000   1662.000   236.000  10.000  \n",
       "310   696.000   6473.000  1781.000   4298.000   394.000  57.000  "
      ]
     },
     "execution_count": 79,
     "metadata": {},
     "output_type": "execute_result"
    }
   ],
   "source": [
    "df.sort_values('population', ascending=False).head()"
   ]
  },
  {
   "cell_type": "code",
   "execution_count": 80,
   "metadata": {},
   "outputs": [
    {
     "data": {
      "text/html": [
       "<div>\n",
       "<style scoped>\n",
       "    .dataframe tbody tr th:only-of-type {\n",
       "        vertical-align: middle;\n",
       "    }\n",
       "\n",
       "    .dataframe tbody tr th {\n",
       "        vertical-align: top;\n",
       "    }\n",
       "\n",
       "    .dataframe thead th {\n",
       "        text-align: right;\n",
       "    }\n",
       "</style>\n",
       "<table border=\"1\" class=\"dataframe\">\n",
       "  <thead>\n",
       "    <tr style=\"text-align: right;\">\n",
       "      <th></th>\n",
       "      <th>population</th>\n",
       "      <th>violent</th>\n",
       "      <th>murder</th>\n",
       "      <th>rape1</th>\n",
       "      <th>rape2</th>\n",
       "      <th>robbery</th>\n",
       "      <th>ag_aslt</th>\n",
       "      <th>property</th>\n",
       "      <th>burglary</th>\n",
       "      <th>larce-th</th>\n",
       "      <th>motor_th</th>\n",
       "      <th>arson3</th>\n",
       "    </tr>\n",
       "  </thead>\n",
       "  <tbody>\n",
       "    <tr>\n",
       "      <th>count</th>\n",
       "      <td>348.000</td>\n",
       "      <td>348.000</td>\n",
       "      <td>348.000</td>\n",
       "      <td>0.000</td>\n",
       "      <td>348.000</td>\n",
       "      <td>348.000</td>\n",
       "      <td>348.000</td>\n",
       "      <td>348.000</td>\n",
       "      <td>348.000</td>\n",
       "      <td>348.000</td>\n",
       "      <td>348.000</td>\n",
       "      <td>187.000</td>\n",
       "    </tr>\n",
       "    <tr>\n",
       "      <th>mean</th>\n",
       "      <td>40037.632</td>\n",
       "      <td>201.595</td>\n",
       "      <td>1.566</td>\n",
       "      <td>nan</td>\n",
       "      <td>5.865</td>\n",
       "      <td>72.902</td>\n",
       "      <td>121.261</td>\n",
       "      <td>792.606</td>\n",
       "      <td>119.684</td>\n",
       "      <td>637.017</td>\n",
       "      <td>35.905</td>\n",
       "      <td>1.872</td>\n",
       "    </tr>\n",
       "    <tr>\n",
       "      <th>std</th>\n",
       "      <td>450037.368</td>\n",
       "      <td>2815.269</td>\n",
       "      <td>18.304</td>\n",
       "      <td>nan</td>\n",
       "      <td>60.425</td>\n",
       "      <td>1031.033</td>\n",
       "      <td>1706.132</td>\n",
       "      <td>7659.725</td>\n",
       "      <td>924.949</td>\n",
       "      <td>6346.054</td>\n",
       "      <td>403.424</td>\n",
       "      <td>10.693</td>\n",
       "    </tr>\n",
       "    <tr>\n",
       "      <th>min</th>\n",
       "      <td>526.000</td>\n",
       "      <td>0.000</td>\n",
       "      <td>0.000</td>\n",
       "      <td>nan</td>\n",
       "      <td>0.000</td>\n",
       "      <td>0.000</td>\n",
       "      <td>0.000</td>\n",
       "      <td>0.000</td>\n",
       "      <td>0.000</td>\n",
       "      <td>0.000</td>\n",
       "      <td>0.000</td>\n",
       "      <td>0.000</td>\n",
       "    </tr>\n",
       "    <tr>\n",
       "      <th>25%</th>\n",
       "      <td>3003.000</td>\n",
       "      <td>2.000</td>\n",
       "      <td>0.000</td>\n",
       "      <td>nan</td>\n",
       "      <td>0.000</td>\n",
       "      <td>0.000</td>\n",
       "      <td>1.000</td>\n",
       "      <td>40.500</td>\n",
       "      <td>6.000</td>\n",
       "      <td>31.000</td>\n",
       "      <td>0.000</td>\n",
       "      <td>0.000</td>\n",
       "    </tr>\n",
       "    <tr>\n",
       "      <th>50%</th>\n",
       "      <td>7233.500</td>\n",
       "      <td>6.000</td>\n",
       "      <td>0.000</td>\n",
       "      <td>nan</td>\n",
       "      <td>0.000</td>\n",
       "      <td>1.000</td>\n",
       "      <td>4.000</td>\n",
       "      <td>112.500</td>\n",
       "      <td>17.500</td>\n",
       "      <td>94.000</td>\n",
       "      <td>2.000</td>\n",
       "      <td>0.000</td>\n",
       "    </tr>\n",
       "    <tr>\n",
       "      <th>75%</th>\n",
       "      <td>18427.500</td>\n",
       "      <td>22.000</td>\n",
       "      <td>0.000</td>\n",
       "      <td>nan</td>\n",
       "      <td>2.000</td>\n",
       "      <td>5.000</td>\n",
       "      <td>14.000</td>\n",
       "      <td>341.000</td>\n",
       "      <td>51.250</td>\n",
       "      <td>287.250</td>\n",
       "      <td>7.000</td>\n",
       "      <td>1.000</td>\n",
       "    </tr>\n",
       "    <tr>\n",
       "      <th>max</th>\n",
       "      <td>8396126.000</td>\n",
       "      <td>52384.000</td>\n",
       "      <td>335.000</td>\n",
       "      <td>nan</td>\n",
       "      <td>1112.000</td>\n",
       "      <td>19170.000</td>\n",
       "      <td>31767.000</td>\n",
       "      <td>141971.000</td>\n",
       "      <td>16606.000</td>\n",
       "      <td>117931.000</td>\n",
       "      <td>7434.000</td>\n",
       "      <td>132.000</td>\n",
       "    </tr>\n",
       "  </tbody>\n",
       "</table>\n",
       "</div>"
      ],
      "text/plain": [
       "       population   violent  murder  rape1    rape2   robbery   ag_aslt  \\\n",
       "count     348.000   348.000 348.000  0.000  348.000   348.000   348.000   \n",
       "mean    40037.632   201.595   1.566    nan    5.865    72.902   121.261   \n",
       "std    450037.368  2815.269  18.304    nan   60.425  1031.033  1706.132   \n",
       "min       526.000     0.000   0.000    nan    0.000     0.000     0.000   \n",
       "25%      3003.000     2.000   0.000    nan    0.000     0.000     1.000   \n",
       "50%      7233.500     6.000   0.000    nan    0.000     1.000     4.000   \n",
       "75%     18427.500    22.000   0.000    nan    2.000     5.000    14.000   \n",
       "max   8396126.000 52384.000 335.000    nan 1112.000 19170.000 31767.000   \n",
       "\n",
       "        property  burglary   larce-th  motor_th  arson3  \n",
       "count    348.000   348.000    348.000   348.000 187.000  \n",
       "mean     792.606   119.684    637.017    35.905   1.872  \n",
       "std     7659.725   924.949   6346.054   403.424  10.693  \n",
       "min        0.000     0.000      0.000     0.000   0.000  \n",
       "25%       40.500     6.000     31.000     0.000   0.000  \n",
       "50%      112.500    17.500     94.000     2.000   0.000  \n",
       "75%      341.000    51.250    287.250     7.000   1.000  \n",
       "max   141971.000 16606.000 117931.000  7434.000 132.000  "
      ]
     },
     "execution_count": 80,
     "metadata": {},
     "output_type": "execute_result"
    }
   ],
   "source": [
    "df.describe()"
   ]
  },
  {
   "cell_type": "code",
   "execution_count": 81,
   "metadata": {},
   "outputs": [],
   "source": [
    "df = df.drop(216)"
   ]
  },
  {
   "cell_type": "code",
   "execution_count": 82,
   "metadata": {},
   "outputs": [
    {
     "data": {
      "image/png": "[encoded data removed]",
      "text/plain": [
       "<Figure size 1440x432 with 2 Axes>"
      ]
     },
     "metadata": {},
     "output_type": "display_data"
    }
   ],
   "source": [
    "plt.figure(figsize=(20, 6))\n",
    "plt.subplot(1,2,1)\n",
    "plt.scatter(x='property', y='murder', data=df)\n",
    "plt.xlabel('property')\n",
    "plt.ylabel('murders')\n",
    "plt.subplot(1,2,2)\n",
    "plt.scatter(x='property', y='robbery', data=df)\n",
    "plt.xlabel('property')\n",
    "plt.ylabel('robberies')\n",
    "plt.show()"
   ]
  },
  {
   "cell_type": "markdown",
   "metadata": {},
   "source": [
    "### Drop even more outliers"
   ]
  },
  {
   "cell_type": "code",
   "execution_count": 83,
   "metadata": {},
   "outputs": [],
   "source": [
    "df = df.drop(35)"
   ]
  },
  {
   "cell_type": "code",
   "execution_count": 84,
   "metadata": {},
   "outputs": [],
   "source": [
    "df = df.drop(272)"
   ]
  },
  {
   "cell_type": "code",
   "execution_count": 85,
   "metadata": {},
   "outputs": [],
   "source": [
    "df = df.drop(346)"
   ]
  },
  {
   "cell_type": "code",
   "execution_count": 86,
   "metadata": {
    "scrolled": false
   },
   "outputs": [],
   "source": [
    "df = df.drop(310)"
   ]
  },
  {
   "cell_type": "code",
   "execution_count": 87,
   "metadata": {
    "scrolled": false
   },
   "outputs": [
    {
     "data": {
      "image/png": "[encoded data removed]",
      "text/plain": [
       "<Figure size 1440x432 with 3 Axes>"
      ]
     },
     "metadata": {},
     "output_type": "display_data"
    }
   ],
   "source": [
    "plt.figure(figsize=(20, 6))\n",
    "plt.subplot(1,3,1)\n",
    "plt.scatter(x='property', y='murder', data=df)\n",
    "plt.xlabel('property')\n",
    "plt.ylabel('murders')\n",
    "plt.subplot(1,3,2)\n",
    "plt.scatter(x='property', y='robbery', data=df)\n",
    "plt.xlabel('property')\n",
    "plt.ylabel('robberies')\n",
    "plt.subplot(1,3,3)\n",
    "plt.scatter(x='rape2', y='robbery', data=df)\n",
    "plt.xlabel('property')\n",
    "plt.ylabel('rape')\n",
    "plt.show()"
   ]
  },
  {
   "cell_type": "code",
   "execution_count": 88,
   "metadata": {},
   "outputs": [
    {
     "data": {
      "text/html": [
       "<div>\n",
       "<style scoped>\n",
       "    .dataframe tbody tr th:only-of-type {\n",
       "        vertical-align: middle;\n",
       "    }\n",
       "\n",
       "    .dataframe tbody tr th {\n",
       "        vertical-align: top;\n",
       "    }\n",
       "\n",
       "    .dataframe thead th {\n",
       "        text-align: right;\n",
       "    }\n",
       "</style>\n",
       "<table border=\"1\" class=\"dataframe\">\n",
       "  <thead>\n",
       "    <tr style=\"text-align: right;\">\n",
       "      <th></th>\n",
       "      <th>city</th>\n",
       "      <th>population</th>\n",
       "      <th>violent</th>\n",
       "      <th>murder</th>\n",
       "      <th>rape1</th>\n",
       "      <th>rape2</th>\n",
       "      <th>robbery</th>\n",
       "      <th>ag_aslt</th>\n",
       "      <th>property</th>\n",
       "      <th>burglary</th>\n",
       "      <th>larce-th</th>\n",
       "      <th>motor_th</th>\n",
       "      <th>arson3</th>\n",
       "    </tr>\n",
       "  </thead>\n",
       "  <tbody>\n",
       "    <tr>\n",
       "      <th>3</th>\n",
       "      <td>Albany</td>\n",
       "      <td>97956.000</td>\n",
       "      <td>791.000</td>\n",
       "      <td>8.000</td>\n",
       "      <td>nan</td>\n",
       "      <td>30.000</td>\n",
       "      <td>227.000</td>\n",
       "      <td>526.000</td>\n",
       "      <td>4090.000</td>\n",
       "      <td>705.000</td>\n",
       "      <td>3243.000</td>\n",
       "      <td>142.000</td>\n",
       "      <td>nan</td>\n",
       "    </tr>\n",
       "  </tbody>\n",
       "</table>\n",
       "</div>"
      ],
      "text/plain": [
       "     city  population  violent  murder  rape1  rape2  robbery  ag_aslt  \\\n",
       "3  Albany   97956.000  791.000   8.000    nan 30.000  227.000  526.000   \n",
       "\n",
       "   property  burglary  larce-th  motor_th  arson3  \n",
       "3  4090.000   705.000  3243.000   142.000     nan  "
      ]
     },
     "execution_count": 88,
     "metadata": {},
     "output_type": "execute_result"
    }
   ],
   "source": [
    "df.loc[df['property']>3500]"
   ]
  },
  {
   "cell_type": "code",
   "execution_count": 89,
   "metadata": {},
   "outputs": [],
   "source": [
    "df = df.drop(3)"
   ]
  },
  {
   "cell_type": "markdown",
   "metadata": {},
   "source": [
    "### Let's see if we can find a linear relationship in some other features"
   ]
  },
  {
   "cell_type": "code",
   "execution_count": 90,
   "metadata": {
    "scrolled": true
   },
   "outputs": [
    {
     "data": {
      "image/png": "[encoded data removed]",
      "text/plain": [
       "<Figure size 1440x432 with 3 Axes>"
      ]
     },
     "metadata": {},
     "output_type": "display_data"
    }
   ],
   "source": [
    "plt.figure(figsize=(20, 6))\n",
    "plt.subplot(1,3,1)\n",
    "plt.scatter(x='property', y='violent', data=df)\n",
    "plt.xlabel('property')\n",
    "plt.ylabel('violent')\n",
    "plt.subplot(1,3,2)\n",
    "plt.scatter(x='property', y='burglary', data=df)\n",
    "plt.xlabel('property')\n",
    "plt.ylabel('burglary')\n",
    "plt.subplot(1,3,3)\n",
    "plt.scatter(x='property', y='larce-th', data=df)\n",
    "plt.xlabel('property')\n",
    "plt.ylabel('larce-th')\n",
    "plt.show()"
   ]
  },
  {
   "cell_type": "code",
   "execution_count": 91,
   "metadata": {},
   "outputs": [
    {
     "data": {
      "text/plain": [
       "Index(['city', 'population', 'violent', 'murder', 'rape1', 'rape2', 'robbery',\n",
       "       'ag_aslt', 'property', 'burglary', 'larce-th', 'motor_th', 'arson3'],\n",
       "      dtype='object')"
      ]
     },
     "execution_count": 91,
     "metadata": {},
     "output_type": "execute_result"
    }
   ],
   "source": [
    "df.columns"
   ]
  },
  {
   "cell_type": "code",
   "execution_count": 92,
   "metadata": {},
   "outputs": [
    {
     "data": {
      "text/html": [
       "<div>\n",
       "<style scoped>\n",
       "    .dataframe tbody tr th:only-of-type {\n",
       "        vertical-align: middle;\n",
       "    }\n",
       "\n",
       "    .dataframe tbody tr th {\n",
       "        vertical-align: top;\n",
       "    }\n",
       "\n",
       "    .dataframe thead th {\n",
       "        text-align: right;\n",
       "    }\n",
       "</style>\n",
       "<table border=\"1\" class=\"dataframe\">\n",
       "  <thead>\n",
       "    <tr style=\"text-align: right;\">\n",
       "      <th></th>\n",
       "      <th>population</th>\n",
       "      <th>murder</th>\n",
       "      <th>robbery</th>\n",
       "      <th>property</th>\n",
       "      <th>violent</th>\n",
       "      <th>burglary</th>\n",
       "      <th>larce</th>\n",
       "      <th>ag_aslt</th>\n",
       "      <th>rape2</th>\n",
       "      <th>populationsq</th>\n",
       "    </tr>\n",
       "  </thead>\n",
       "  <tbody>\n",
       "    <tr>\n",
       "      <th>count</th>\n",
       "      <td>342.000</td>\n",
       "      <td>342.000</td>\n",
       "      <td>342.000</td>\n",
       "      <td>342.000</td>\n",
       "      <td>342.000</td>\n",
       "      <td>342.000</td>\n",
       "      <td>342.000</td>\n",
       "      <td>342.000</td>\n",
       "      <td>342.000</td>\n",
       "      <td>342.000</td>\n",
       "    </tr>\n",
       "    <tr>\n",
       "      <th>mean</th>\n",
       "      <td>13528.348</td>\n",
       "      <td>1.000</td>\n",
       "      <td>1.000</td>\n",
       "      <td>287.670</td>\n",
       "      <td>27.474</td>\n",
       "      <td>46.909</td>\n",
       "      <td>232.798</td>\n",
       "      <td>16.974</td>\n",
       "      <td>1.643</td>\n",
       "      <td>470294375.652</td>\n",
       "    </tr>\n",
       "    <tr>\n",
       "      <th>std</th>\n",
       "      <td>16974.117</td>\n",
       "      <td>0.000</td>\n",
       "      <td>0.000</td>\n",
       "      <td>460.277</td>\n",
       "      <td>74.971</td>\n",
       "      <td>90.645</td>\n",
       "      <td>365.363</td>\n",
       "      <td>45.015</td>\n",
       "      <td>3.768</td>\n",
       "      <td>1329035238.060</td>\n",
       "    </tr>\n",
       "    <tr>\n",
       "      <th>min</th>\n",
       "      <td>526.000</td>\n",
       "      <td>1.000</td>\n",
       "      <td>1.000</td>\n",
       "      <td>0.000</td>\n",
       "      <td>0.000</td>\n",
       "      <td>0.000</td>\n",
       "      <td>0.000</td>\n",
       "      <td>0.000</td>\n",
       "      <td>0.000</td>\n",
       "      <td>276676.000</td>\n",
       "    </tr>\n",
       "    <tr>\n",
       "      <th>25%</th>\n",
       "      <td>2979.750</td>\n",
       "      <td>1.000</td>\n",
       "      <td>1.000</td>\n",
       "      <td>39.000</td>\n",
       "      <td>2.000</td>\n",
       "      <td>6.000</td>\n",
       "      <td>31.000</td>\n",
       "      <td>1.000</td>\n",
       "      <td>0.000</td>\n",
       "      <td>8878919.250</td>\n",
       "    </tr>\n",
       "    <tr>\n",
       "      <th>50%</th>\n",
       "      <td>7074.500</td>\n",
       "      <td>1.000</td>\n",
       "      <td>1.000</td>\n",
       "      <td>111.000</td>\n",
       "      <td>6.000</td>\n",
       "      <td>17.000</td>\n",
       "      <td>92.000</td>\n",
       "      <td>4.000</td>\n",
       "      <td>0.000</td>\n",
       "      <td>50049200.500</td>\n",
       "    </tr>\n",
       "    <tr>\n",
       "      <th>75%</th>\n",
       "      <td>17611.250</td>\n",
       "      <td>1.000</td>\n",
       "      <td>1.000</td>\n",
       "      <td>331.750</td>\n",
       "      <td>20.000</td>\n",
       "      <td>49.000</td>\n",
       "      <td>272.500</td>\n",
       "      <td>13.000</td>\n",
       "      <td>2.000</td>\n",
       "      <td>310156870.750</td>\n",
       "    </tr>\n",
       "    <tr>\n",
       "      <th>max</th>\n",
       "      <td>118296.000</td>\n",
       "      <td>1.000</td>\n",
       "      <td>1.000</td>\n",
       "      <td>2807.000</td>\n",
       "      <td>607.000</td>\n",
       "      <td>769.000</td>\n",
       "      <td>2271.000</td>\n",
       "      <td>403.000</td>\n",
       "      <td>31.000</td>\n",
       "      <td>13993943616.000</td>\n",
       "    </tr>\n",
       "  </tbody>\n",
       "</table>\n",
       "</div>"
      ],
      "text/plain": [
       "       population  murder  robbery  property  violent  burglary    larce  \\\n",
       "count     342.000 342.000  342.000   342.000  342.000   342.000  342.000   \n",
       "mean    13528.348   1.000    1.000   287.670   27.474    46.909  232.798   \n",
       "std     16974.117   0.000    0.000   460.277   74.971    90.645  365.363   \n",
       "min       526.000   1.000    1.000     0.000    0.000     0.000    0.000   \n",
       "25%      2979.750   1.000    1.000    39.000    2.000     6.000   31.000   \n",
       "50%      7074.500   1.000    1.000   111.000    6.000    17.000   92.000   \n",
       "75%     17611.250   1.000    1.000   331.750   20.000    49.000  272.500   \n",
       "max    118296.000   1.000    1.000  2807.000  607.000   769.000 2271.000   \n",
       "\n",
       "       ag_aslt   rape2    populationsq  \n",
       "count  342.000 342.000         342.000  \n",
       "mean    16.974   1.643   470294375.652  \n",
       "std     45.015   3.768  1329035238.060  \n",
       "min      0.000   0.000      276676.000  \n",
       "25%      1.000   0.000     8878919.250  \n",
       "50%      4.000   0.000    50049200.500  \n",
       "75%     13.000   2.000   310156870.750  \n",
       "max    403.000  31.000 13993943616.000  "
      ]
     },
     "execution_count": 92,
     "metadata": {},
     "output_type": "execute_result"
    }
   ],
   "source": [
    "df2 = df[['population','murder','robbery', 'property', 'violent', 'burglary', 'larce-th', 'ag_aslt', 'rape2']].dropna()\n",
    "\n",
    "\n",
    "df2['populationsq'] = df2['population'] * df2['population']\n",
    "\n",
    "df2['murder'] = df2.loc[df2['murder']>0, 'murder'] = 1\n",
    "\n",
    "df2['robbery'] = df2.loc[df2['robbery']>0, 'robbery'] = 1\n",
    "\n",
    "df2 = df2.rename(columns={'larce-th': 'larce'})\n",
    "\n",
    "\n",
    "df2.describe()"
   ]
  },
  {
   "cell_type": "code",
   "execution_count": 93,
   "metadata": {},
   "outputs": [
    {
     "data": {
      "image/png": "[encoded data removed]",
      "text/plain": [
       "<Figure size 1440x432 with 3 Axes>"
      ]
     },
     "metadata": {},
     "output_type": "display_data"
    }
   ],
   "source": [
    "plt.figure(figsize=(20, 6))\n",
    "plt.subplot(1,3,1)\n",
    "plt.scatter(x='property', y='murder', data=df2)\n",
    "plt.xlabel('property')\n",
    "plt.ylabel('murders')\n",
    "plt.subplot(1,3,2)\n",
    "plt.scatter(x='property', y='robbery', data=df2)\n",
    "plt.xlabel('property')\n",
    "plt.ylabel('robberies')\n",
    "plt.subplot(1,3,3)\n",
    "plt.scatter(x='property', y='rape2', data=df2)\n",
    "plt.xlabel('property')\n",
    "plt.ylabel('rape')\n",
    "plt.show()"
   ]
  },
  {
   "cell_type": "markdown",
   "metadata": {},
   "source": [
    "### Apply some PCA to combine\n",
    "\n",
    "Based on the data, rape, murder and robberies happen less often and seem to have a less linear relationship to property. Let's combine them together to see if we can still use these features."
   ]
  },
  {
   "cell_type": "code",
   "execution_count": 94,
   "metadata": {},
   "outputs": [],
   "source": [
    "from sklearn.preprocessing import StandardScaler\n",
    "features = ['murder', 'robbery', 'rape2', 'ag_aslt']\n",
    "\n",
    "# Separating out the features\n",
    "x = df2.loc[:, features].values\n",
    "# Separating out the target\n",
    "y = df2.loc[:,['property']].values\n",
    "# Standardizing the features\n",
    "x = StandardScaler().fit_transform(x)"
   ]
  },
  {
   "cell_type": "code",
   "execution_count": 95,
   "metadata": {},
   "outputs": [],
   "source": [
    "from sklearn.decomposition import PCA\n",
    "pca = PCA(n_components=1)\n",
    "principalComponents = pca.fit_transform(x)\n",
    "principalDf = pd.DataFrame(data = principalComponents\n",
    "             , columns = ['pc1'])"
   ]
  },
  {
   "cell_type": "code",
   "execution_count": 96,
   "metadata": {
    "scrolled": false
   },
   "outputs": [
    {
     "data": {
      "text/html": [
       "<div>\n",
       "<style scoped>\n",
       "    .dataframe tbody tr th:only-of-type {\n",
       "        vertical-align: middle;\n",
       "    }\n",
       "\n",
       "    .dataframe tbody tr th {\n",
       "        vertical-align: top;\n",
       "    }\n",
       "\n",
       "    .dataframe thead th {\n",
       "        text-align: right;\n",
       "    }\n",
       "</style>\n",
       "<table border=\"1\" class=\"dataframe\">\n",
       "  <thead>\n",
       "    <tr style=\"text-align: right;\">\n",
       "      <th></th>\n",
       "      <th>index</th>\n",
       "      <th>pc1</th>\n",
       "      <th>population</th>\n",
       "      <th>murder</th>\n",
       "      <th>robbery</th>\n",
       "      <th>property</th>\n",
       "      <th>violent</th>\n",
       "      <th>burglary</th>\n",
       "      <th>larce</th>\n",
       "      <th>ag_aslt</th>\n",
       "      <th>rape2</th>\n",
       "      <th>populationsq</th>\n",
       "    </tr>\n",
       "  </thead>\n",
       "  <tbody>\n",
       "    <tr>\n",
       "      <th>0</th>\n",
       "      <td>0</td>\n",
       "      <td>-0.576</td>\n",
       "      <td>1861.000</td>\n",
       "      <td>1.000</td>\n",
       "      <td>1.000</td>\n",
       "      <td>12.000</td>\n",
       "      <td>0.000</td>\n",
       "      <td>2.000</td>\n",
       "      <td>10.000</td>\n",
       "      <td>0.000</td>\n",
       "      <td>0.000</td>\n",
       "      <td>3463321.000</td>\n",
       "    </tr>\n",
       "    <tr>\n",
       "      <th>1</th>\n",
       "      <td>1</td>\n",
       "      <td>-0.529</td>\n",
       "      <td>2577.000</td>\n",
       "      <td>1.000</td>\n",
       "      <td>1.000</td>\n",
       "      <td>24.000</td>\n",
       "      <td>3.000</td>\n",
       "      <td>3.000</td>\n",
       "      <td>20.000</td>\n",
       "      <td>3.000</td>\n",
       "      <td>0.000</td>\n",
       "      <td>6640929.000</td>\n",
       "    </tr>\n",
       "    <tr>\n",
       "      <th>2</th>\n",
       "      <td>2</td>\n",
       "      <td>-0.529</td>\n",
       "      <td>2846.000</td>\n",
       "      <td>1.000</td>\n",
       "      <td>1.000</td>\n",
       "      <td>16.000</td>\n",
       "      <td>3.000</td>\n",
       "      <td>1.000</td>\n",
       "      <td>15.000</td>\n",
       "      <td>3.000</td>\n",
       "      <td>0.000</td>\n",
       "      <td>8099716.000</td>\n",
       "    </tr>\n",
       "    <tr>\n",
       "      <th>3</th>\n",
       "      <td>4</td>\n",
       "      <td>-0.544</td>\n",
       "      <td>6388.000</td>\n",
       "      <td>1.000</td>\n",
       "      <td>1.000</td>\n",
       "      <td>223.000</td>\n",
       "      <td>23.000</td>\n",
       "      <td>53.000</td>\n",
       "      <td>165.000</td>\n",
       "      <td>16.000</td>\n",
       "      <td>3.000</td>\n",
       "      <td>40806544.000</td>\n",
       "    </tr>\n",
       "    <tr>\n",
       "      <th>4</th>\n",
       "      <td>5</td>\n",
       "      <td>-0.529</td>\n",
       "      <td>4089.000</td>\n",
       "      <td>1.000</td>\n",
       "      <td>1.000</td>\n",
       "      <td>46.000</td>\n",
       "      <td>5.000</td>\n",
       "      <td>10.000</td>\n",
       "      <td>36.000</td>\n",
       "      <td>2.000</td>\n",
       "      <td>0.000</td>\n",
       "      <td>16719921.000</td>\n",
       "    </tr>\n",
       "  </tbody>\n",
       "</table>\n",
       "</div>"
      ],
      "text/plain": [
       "   index    pc1  population  murder  robbery  property  violent  burglary  \\\n",
       "0      0 -0.576    1861.000   1.000    1.000    12.000    0.000     2.000   \n",
       "1      1 -0.529    2577.000   1.000    1.000    24.000    3.000     3.000   \n",
       "2      2 -0.529    2846.000   1.000    1.000    16.000    3.000     1.000   \n",
       "3      4 -0.544    6388.000   1.000    1.000   223.000   23.000    53.000   \n",
       "4      5 -0.529    4089.000   1.000    1.000    46.000    5.000    10.000   \n",
       "\n",
       "    larce  ag_aslt  rape2  populationsq  \n",
       "0  10.000    0.000  0.000   3463321.000  \n",
       "1  20.000    3.000  0.000   6640929.000  \n",
       "2  15.000    3.000  0.000   8099716.000  \n",
       "3 165.000   16.000  3.000  40806544.000  \n",
       "4  36.000    2.000  0.000  16719921.000  "
      ]
     },
     "execution_count": 96,
     "metadata": {},
     "output_type": "execute_result"
    }
   ],
   "source": [
    "model_df = pd.concat([principalDf, df2], axis = 1).dropna().reset_index()\n",
    "model_df.head()"
   ]
  },
  {
   "cell_type": "code",
   "execution_count": 97,
   "metadata": {},
   "outputs": [
    {
     "data": {
      "text/plain": [
       "array([0.88857711])"
      ]
     },
     "execution_count": 97,
     "metadata": {},
     "output_type": "execute_result"
    }
   ],
   "source": [
    "pca.explained_variance_ratio_"
   ]
  },
  {
   "cell_type": "markdown",
   "metadata": {},
   "source": [
    "### Model using murder, robbery and rape as features\n",
    "\n",
    "Our original idea was to use these three, let's see how they work."
   ]
  },
  {
   "cell_type": "code",
   "execution_count": 98,
   "metadata": {
    "scrolled": false
   },
   "outputs": [
    {
     "name": "stdout",
     "output_type": "stream",
     "text": [
      "\n",
      "Coefficients: \n",
      " [[0.00000000e+00 1.00344158e-07 5.53419726e+01 2.47472343e-07]]\n",
      "\n",
      "Intercept: \n",
      " [85.27772803]\n",
      "\n",
      "R-squared:\n",
      "0.8323306597570991\n"
     ]
    }
   ],
   "source": [
    "# to split a training and test sample\n",
    "from sklearn.model_selection import train_test_split\n",
    "\n",
    "# Instantiate and fit our model.\n",
    "regr = linear_model.LinearRegression()\n",
    "Y = model_df['property'].values.reshape(-1, 1)\n",
    "X = model_df[['murder','robbery','rape2','populationsq']]\n",
    "x_train, x_test, y_train, y_test = train_test_split(X, Y, random_state=0)\n",
    "regr.fit(x_train, y_train)\n",
    "\n",
    "# Inspect the results.\n",
    "print('\\nCoefficients: \\n', regr.coef_)\n",
    "print('\\nIntercept: \\n', regr.intercept_)\n",
    "print('\\nR-squared:')\n",
    "print(regr.score(x_train, y_train))"
   ]
  },
  {
   "cell_type": "markdown",
   "metadata": {},
   "source": [
    "The R score is decent but the intercept is much too high."
   ]
  },
  {
   "cell_type": "markdown",
   "metadata": {},
   "source": [
    "### Try with some different features & add the PCA in"
   ]
  },
  {
   "cell_type": "code",
   "execution_count": 99,
   "metadata": {},
   "outputs": [
    {
     "name": "stdout",
     "output_type": "stream",
     "text": [
      "\n",
      "Coefficients: \n",
      " [[-1.69472147e-02  1.00766739e+00  1.78608643e-01  9.99422662e-01\n",
      "   5.05703359e-09]]\n",
      "\n",
      "Intercept: \n",
      " [0.52200825]\n",
      "\n",
      "R-squared:\n",
      "0.999804301845443\n"
     ]
    }
   ],
   "source": [
    "# to split a training and test sample\n",
    "from sklearn.model_selection import train_test_split\n",
    "\n",
    "# Instantiate and fit our model.\n",
    "regr = linear_model.LinearRegression()\n",
    "Y = model_df['property'].values.reshape(-1, 1)\n",
    "X = model_df[['pc1','burglary', 'violent', 'larce', 'populationsq']]\n",
    "x_train, x_test, y_train, y_test = train_test_split(X, Y, random_state=0)\n",
    "regr.fit(x_train, y_train)\n",
    "\n",
    "# Inspect the results.\n",
    "print('\\nCoefficients: \\n', regr.coef_)\n",
    "print('\\nIntercept: \\n', regr.intercept_)\n",
    "print('\\nR-squared:')\n",
    "print(regr.score(x_train, y_train))"
   ]
  },
  {
   "cell_type": "markdown",
   "metadata": {},
   "source": [
    "This second set performs much better than the first set. With a very very high R score, and an intercept that makes much more sense. My main fear with it though is that with such a high R Score, the model might be overfitting a bit."
   ]
  },
  {
   "cell_type": "markdown",
   "metadata": {},
   "source": [
    "### Check for Multivarate Normality"
   ]
  },
  {
   "cell_type": "code",
   "execution_count": 100,
   "metadata": {},
   "outputs": [
    {
     "data": {
      "image/png": "[encoded data removed]",
      "text/plain": [
       "<Figure size 432x288 with 1 Axes>"
      ]
     },
     "metadata": {},
     "output_type": "display_data"
    }
   ],
   "source": [
    "# find predicted values\n",
    "predicted = regr.predict(X).ravel()\n",
    "actual = model_df['property']\n",
    "\n",
    "# Calculate the error, also called the residual.\n",
    "residual = actual - predicted\n",
    "\n",
    "# plot\n",
    "plt.hist(residual)\n",
    "plt.title('Residual counts')\n",
    "plt.xlabel('Residual')\n",
    "plt.ylabel('Count')\n",
    "plt.show()"
   ]
  },
  {
   "cell_type": "markdown",
   "metadata": {},
   "source": [
    "### Homoscedasticity"
   ]
  },
  {
   "cell_type": "code",
   "execution_count": 101,
   "metadata": {},
   "outputs": [
    {
     "data": {
      "image/png": "[encoded data removed]",
      "text/plain": [
       "<Figure size 432x288 with 1 Axes>"
      ]
     },
     "metadata": {},
     "output_type": "display_data"
    }
   ],
   "source": [
    "plt.scatter(predicted, residual)\n",
    "plt.xlabel('Predicted')\n",
    "plt.ylabel('Residual')\n",
    "plt.axhline(y=0)\n",
    "plt.title('Residual vs. Predicted')\n",
    "plt.show()"
   ]
  },
  {
   "cell_type": "markdown",
   "metadata": {},
   "source": [
    "### Transform the data to normalize it\n",
    "\n",
    "Lets see if this can fix the Homoscedasticity"
   ]
  },
  {
   "cell_type": "code",
   "execution_count": 102,
   "metadata": {},
   "outputs": [
    {
     "data": {
      "image/png": "[encoded data removed]",
      "text/plain": [
       "<Figure size 432x288 with 1 Axes>"
      ]
     },
     "metadata": {},
     "output_type": "display_data"
    }
   ],
   "source": [
    "from sklearn.compose import TransformedTargetRegressor\n",
    "from sklearn.preprocessing import QuantileTransformer\n",
    "from sklearn.linear_model import LinearRegression\n",
    "\n",
    "transformer = QuantileTransformer(output_distribution='normal')\n",
    "regressor = LinearRegression()\n",
    "regr = TransformedTargetRegressor(regressor=regressor, transformer=transformer)\n",
    "regr.fit(x_train, y_train)\n",
    "\n",
    "# find predicted values\n",
    "predicted = regr.predict(X).ravel()\n",
    "actual = model_df['property']\n",
    "\n",
    "# Calculate the error, also called the residual.\n",
    "residual = actual - predicted\n",
    "\n",
    "# plot\n",
    "plt.scatter(predicted, residual)\n",
    "plt.xlabel('Predicted')\n",
    "plt.ylabel('Residual')\n",
    "plt.axhline(y=0)\n",
    "plt.title('Residual vs. Predicted')\n",
    "plt.show()"
   ]
  },
  {
   "cell_type": "markdown",
   "metadata": {},
   "source": [
    "Transforming the data did not seem to help"
   ]
  },
  {
   "cell_type": "markdown",
   "metadata": {},
   "source": [
    "### Testing the model on the training & test set\n",
    "\n",
    "My fears of the model possibly overfitting were unwarranted. The model performs similarly well on both the training and the test set."
   ]
  },
  {
   "cell_type": "code",
   "execution_count": 103,
   "metadata": {},
   "outputs": [
    {
     "name": "stdout",
     "output_type": "stream",
     "text": [
      "\n",
      "Coefficients: \n",
      " [[-1.69472147e-02  1.00766739e+00  1.78608643e-01  9.99422662e-01\n",
      "   5.05703359e-09]]\n",
      "\n",
      "Intercept: \n",
      " [0.52200825]\n",
      "\n",
      "R-squared:\n",
      "0.999804301845443\n"
     ]
    }
   ],
   "source": [
    "regr = linear_model.LinearRegression()\n",
    "regr.fit(x_train, y_train)\n",
    "\n",
    "# Inspect the results.\n",
    "print('\\nCoefficients: \\n', regr.coef_)\n",
    "print('\\nIntercept: \\n', regr.intercept_)\n",
    "print('\\nR-squared:')\n",
    "print(regr.score(x_train, y_train))"
   ]
  },
  {
   "cell_type": "code",
   "execution_count": 104,
   "metadata": {},
   "outputs": [
    {
     "name": "stdout",
     "output_type": "stream",
     "text": [
      "\n",
      "Coefficients: \n",
      " [[-1.69472147e-02  1.00766739e+00  1.78608643e-01  9.99422662e-01\n",
      "   5.05703359e-09]]\n",
      "\n",
      "Intercept: \n",
      " [0.52200825]\n",
      "\n",
      "R-squared:\n",
      "0.9995772422723787\n"
     ]
    }
   ],
   "source": [
    "print('\\nCoefficients: \\n', regr.coef_)\n",
    "print('\\nIntercept: \\n', regr.intercept_)\n",
    "print('\\nR-squared:')\n",
    "print(regr.score(x_test, y_test))"
   ]
  },
  {
   "cell_type": "markdown",
   "metadata": {},
   "source": [
    "### Looking at the correlations\n",
    "\n",
    "It looks as if the four non-PCA'd features are highly correlated. Which means we might be better off doing another round of PCA to combine them into a feature."
   ]
  },
  {
   "cell_type": "code",
   "execution_count": 105,
   "metadata": {},
   "outputs": [
    {
     "data": {
      "image/png": "[encoded data removed]",
      "text/plain": [
       "<Figure size 360x360 with 2 Axes>"
      ]
     },
     "metadata": {},
     "output_type": "display_data"
    }
   ],
   "source": [
    "plt.figure(figsize=(5,5))\n",
    "cmap = sns.diverging_palette(220, 10, as_cmap=True)\n",
    "sns.heatmap(x_train.corr(), square=True, cmap=cmap, center=0)\n",
    "plt.show()"
   ]
  },
  {
   "cell_type": "code",
   "execution_count": 106,
   "metadata": {},
   "outputs": [],
   "source": [
    "import statsmodels.formula.api as smf\n",
    "from statsmodels.sandbox.regression.predstd import wls_prediction_std\n",
    "\n",
    "# Write out the model formula.\n",
    "linear_formula = 'property ~ pc1+burglary+violent+larce+populationsq'\n",
    "\n",
    "# Fit the model to our data using the formula.\n",
    "lm = smf.ols(formula=linear_formula, data=model_df).fit()"
   ]
  },
  {
   "cell_type": "markdown",
   "metadata": {},
   "source": [
    "### Coefficients"
   ]
  },
  {
   "cell_type": "code",
   "execution_count": 107,
   "metadata": {
    "scrolled": true
   },
   "outputs": [
    {
     "data": {
      "text/plain": [
       "Intercept      0.252\n",
       "pc1            0.042\n",
       "burglary       1.001\n",
       "violent        0.187\n",
       "larce          1.008\n",
       "populationsq   0.000\n",
       "dtype: float64"
      ]
     },
     "execution_count": 107,
     "metadata": {},
     "output_type": "execute_result"
    }
   ],
   "source": [
    "lm.params"
   ]
  },
  {
   "cell_type": "markdown",
   "metadata": {},
   "source": [
    "### P Values\n",
    "\n",
    "Our PCA'd features are above .005 and dropping them probably wouldn't effect the model."
   ]
  },
  {
   "cell_type": "code",
   "execution_count": 108,
   "metadata": {
    "scrolled": true
   },
   "outputs": [
    {
     "data": {
      "text/plain": [
       "Intercept      0.577\n",
       "pc1            0.882\n",
       "burglary       0.000\n",
       "violent        0.000\n",
       "larce          0.000\n",
       "populationsq   0.001\n",
       "dtype: float64"
      ]
     },
     "execution_count": 108,
     "metadata": {},
     "output_type": "execute_result"
    }
   ],
   "source": [
    "lm.pvalues"
   ]
  },
  {
   "cell_type": "markdown",
   "metadata": {},
   "source": [
    "### R Squared"
   ]
  },
  {
   "cell_type": "code",
   "execution_count": 109,
   "metadata": {},
   "outputs": [
    {
     "data": {
      "text/plain": [
       "0.9997865339820269"
      ]
     },
     "execution_count": 109,
     "metadata": {},
     "output_type": "execute_result"
    }
   ],
   "source": [
    "lm.rsquared"
   ]
  },
  {
   "cell_type": "markdown",
   "metadata": {},
   "source": [
    "### Drop PC1\n",
    "\n",
    "Let's drop PC1 and see if it effects our Rsquared value at all"
   ]
  },
  {
   "cell_type": "code",
   "execution_count": 110,
   "metadata": {},
   "outputs": [
    {
     "data": {
      "text/plain": [
       "0.9997865197855922"
      ]
     },
     "execution_count": 110,
     "metadata": {},
     "output_type": "execute_result"
    }
   ],
   "source": [
    "# Write out the model formula.\n",
    "linear_formula = 'property ~ burglary+violent+larce+populationsq'\n",
    "\n",
    "# Fit the model to our data using the formula.\n",
    "lm = smf.ols(formula=linear_formula, data=model_df).fit()\n",
    "\n",
    "lm.rsquared"
   ]
  },
  {
   "cell_type": "markdown",
   "metadata": {},
   "source": [
    "Doesn't effect it at all!"
   ]
  },
  {
   "cell_type": "markdown",
   "metadata": {},
   "source": [
    "### Confidence Intervals\n",
    "\n",
    "From this table, it also looks as if population^2 or violent are also not doing all that much. Let's remove them and see how it looks"
   ]
  },
  {
   "cell_type": "code",
   "execution_count": 111,
   "metadata": {},
   "outputs": [
    {
     "data": {
      "text/html": [
       "<div>\n",
       "<style scoped>\n",
       "    .dataframe tbody tr th:only-of-type {\n",
       "        vertical-align: middle;\n",
       "    }\n",
       "\n",
       "    .dataframe tbody tr th {\n",
       "        vertical-align: top;\n",
       "    }\n",
       "\n",
       "    .dataframe thead th {\n",
       "        text-align: right;\n",
       "    }\n",
       "</style>\n",
       "<table border=\"1\" class=\"dataframe\">\n",
       "  <thead>\n",
       "    <tr style=\"text-align: right;\">\n",
       "      <th></th>\n",
       "      <th>0</th>\n",
       "      <th>1</th>\n",
       "    </tr>\n",
       "  </thead>\n",
       "  <tbody>\n",
       "    <tr>\n",
       "      <th>Intercept</th>\n",
       "      <td>-0.633</td>\n",
       "      <td>1.136</td>\n",
       "    </tr>\n",
       "    <tr>\n",
       "      <th>burglary</th>\n",
       "      <td>0.975</td>\n",
       "      <td>1.027</td>\n",
       "    </tr>\n",
       "    <tr>\n",
       "      <th>violent</th>\n",
       "      <td>0.165</td>\n",
       "      <td>0.209</td>\n",
       "    </tr>\n",
       "    <tr>\n",
       "      <th>larce</th>\n",
       "      <td>1.002</td>\n",
       "      <td>1.013</td>\n",
       "    </tr>\n",
       "    <tr>\n",
       "      <th>populationsq</th>\n",
       "      <td>0.000</td>\n",
       "      <td>0.000</td>\n",
       "    </tr>\n",
       "  </tbody>\n",
       "</table>\n",
       "</div>"
      ],
      "text/plain": [
       "                  0     1\n",
       "Intercept    -0.633 1.136\n",
       "burglary      0.975 1.027\n",
       "violent       0.165 0.209\n",
       "larce         1.002 1.013\n",
       "populationsq  0.000 0.000"
      ]
     },
     "execution_count": 111,
     "metadata": {},
     "output_type": "execute_result"
    }
   ],
   "source": [
    "lm.conf_int()"
   ]
  },
  {
   "cell_type": "code",
   "execution_count": 112,
   "metadata": {},
   "outputs": [
    {
     "name": "stdout",
     "output_type": "stream",
     "text": [
      "0.999576403144549\n"
     ]
    },
    {
     "data": {
      "text/html": [
       "<div>\n",
       "<style scoped>\n",
       "    .dataframe tbody tr th:only-of-type {\n",
       "        vertical-align: middle;\n",
       "    }\n",
       "\n",
       "    .dataframe tbody tr th {\n",
       "        vertical-align: top;\n",
       "    }\n",
       "\n",
       "    .dataframe thead th {\n",
       "        text-align: right;\n",
       "    }\n",
       "</style>\n",
       "<table border=\"1\" class=\"dataframe\">\n",
       "  <thead>\n",
       "    <tr style=\"text-align: right;\">\n",
       "      <th></th>\n",
       "      <th>0</th>\n",
       "      <th>1</th>\n",
       "    </tr>\n",
       "  </thead>\n",
       "  <tbody>\n",
       "    <tr>\n",
       "      <th>Intercept</th>\n",
       "      <td>-1.939</td>\n",
       "      <td>0.490</td>\n",
       "    </tr>\n",
       "    <tr>\n",
       "      <th>burglary</th>\n",
       "      <td>1.138</td>\n",
       "      <td>1.181</td>\n",
       "    </tr>\n",
       "    <tr>\n",
       "      <th>larce</th>\n",
       "      <td>1.000</td>\n",
       "      <td>1.011</td>\n",
       "    </tr>\n",
       "  </tbody>\n",
       "</table>\n",
       "</div>"
      ],
      "text/plain": [
       "               0     1\n",
       "Intercept -1.939 0.490\n",
       "burglary   1.138 1.181\n",
       "larce      1.000 1.011"
      ]
     },
     "execution_count": 112,
     "metadata": {},
     "output_type": "execute_result"
    }
   ],
   "source": [
    "# Write out the model formula.\n",
    "linear_formula = 'property ~ burglary+larce'\n",
    "\n",
    "# Fit the model to our data using the formula.\n",
    "lm = smf.ols(formula=linear_formula, data=model_df).fit()\n",
    "\n",
    "print(lm.rsquared)\n",
    "lm.conf_int()"
   ]
  },
  {
   "cell_type": "markdown",
   "metadata": {},
   "source": [
    "That looks much better"
   ]
  },
  {
   "cell_type": "code",
   "execution_count": 113,
   "metadata": {},
   "outputs": [
    {
     "data": {
      "image/png": "[encoded data removed]",
      "text/plain": [
       "<Figure size 432x288 with 1 Axes>"
      ]
     },
     "metadata": {},
     "output_type": "display_data"
    }
   ],
   "source": [
    "# Use wls_prediction_std to build confidence intervals\n",
    "prstd, iv_l, iv_u = wls_prediction_std(lm)\n",
    "\n",
    "plt.figure()\n",
    "plt.plot(iv_u[0:15], 'o', color='r', alpha=.75)\n",
    "plt.plot(iv_l[0:15], 'o', color='r', alpha=.75)\n",
    "plt.plot(lm.fittedvalues[0:15], 'o', color='b')\n",
    "plt.title('blue: predicted, red: 95% CI')\n",
    "plt.show()"
   ]
  },
  {
   "cell_type": "markdown",
   "metadata": {},
   "source": [
    "### Lets see how this model works on a different year of crime data"
   ]
  },
  {
   "cell_type": "code",
   "execution_count": 114,
   "metadata": {},
   "outputs": [
    {
     "data": {
      "text/html": [
       "<div>\n",
       "<style scoped>\n",
       "    .dataframe tbody tr th:only-of-type {\n",
       "        vertical-align: middle;\n",
       "    }\n",
       "\n",
       "    .dataframe tbody tr th {\n",
       "        vertical-align: top;\n",
       "    }\n",
       "\n",
       "    .dataframe thead th {\n",
       "        text-align: right;\n",
       "    }\n",
       "</style>\n",
       "<table border=\"1\" class=\"dataframe\">\n",
       "  <thead>\n",
       "    <tr style=\"text-align: right;\">\n",
       "      <th></th>\n",
       "      <th>city</th>\n",
       "      <th>population</th>\n",
       "      <th>violent</th>\n",
       "      <th>murder</th>\n",
       "      <th>rape1</th>\n",
       "      <th>rape2</th>\n",
       "      <th>robbery</th>\n",
       "      <th>ag_aslt</th>\n",
       "      <th>property</th>\n",
       "      <th>burglary</th>\n",
       "      <th>larce</th>\n",
       "      <th>motor_th</th>\n",
       "      <th>arson3</th>\n",
       "    </tr>\n",
       "  </thead>\n",
       "  <tbody>\n",
       "    <tr>\n",
       "      <th>227</th>\n",
       "      <td>New York4</td>\n",
       "      <td>8473938.000</td>\n",
       "      <td>50564.000</td>\n",
       "      <td>333.000</td>\n",
       "      <td>2190.000</td>\n",
       "      <td>nan</td>\n",
       "      <td>16581.000</td>\n",
       "      <td>31460.000</td>\n",
       "      <td>135747.000</td>\n",
       "      <td>15916.000</td>\n",
       "      <td>112107.000</td>\n",
       "      <td>7724.000</td>\n",
       "      <td>nan</td>\n",
       "    </tr>\n",
       "    <tr>\n",
       "      <th>38</th>\n",
       "      <td>Buffalo4</td>\n",
       "      <td>258419.000</td>\n",
       "      <td>3174.000</td>\n",
       "      <td>60.000</td>\n",
       "      <td>174.000</td>\n",
       "      <td>nan</td>\n",
       "      <td>1277.000</td>\n",
       "      <td>1663.000</td>\n",
       "      <td>12449.000</td>\n",
       "      <td>3119.000</td>\n",
       "      <td>8362.000</td>\n",
       "      <td>968.000</td>\n",
       "      <td>nan</td>\n",
       "    </tr>\n",
       "    <tr>\n",
       "      <th>283</th>\n",
       "      <td>Rochester4</td>\n",
       "      <td>210347.000</td>\n",
       "      <td>1765.000</td>\n",
       "      <td>27.000</td>\n",
       "      <td>190.000</td>\n",
       "      <td>nan</td>\n",
       "      <td>698.000</td>\n",
       "      <td>850.000</td>\n",
       "      <td>8856.000</td>\n",
       "      <td>2125.000</td>\n",
       "      <td>6058.000</td>\n",
       "      <td>673.000</td>\n",
       "      <td>135.000</td>\n",
       "    </tr>\n",
       "    <tr>\n",
       "      <th>326</th>\n",
       "      <td>Syracuse4</td>\n",
       "      <td>144534.000</td>\n",
       "      <td>1164.000</td>\n",
       "      <td>20.000</td>\n",
       "      <td>70.000</td>\n",
       "      <td>nan</td>\n",
       "      <td>406.000</td>\n",
       "      <td>668.000</td>\n",
       "      <td>5755.000</td>\n",
       "      <td>1404.000</td>\n",
       "      <td>3986.000</td>\n",
       "      <td>365.000</td>\n",
       "      <td>57.000</td>\n",
       "    </tr>\n",
       "    <tr>\n",
       "      <th>4</th>\n",
       "      <td>Albany4</td>\n",
       "      <td>98595.000</td>\n",
       "      <td>802.000</td>\n",
       "      <td>8.000</td>\n",
       "      <td>54.000</td>\n",
       "      <td>nan</td>\n",
       "      <td>237.000</td>\n",
       "      <td>503.000</td>\n",
       "      <td>3888.000</td>\n",
       "      <td>683.000</td>\n",
       "      <td>3083.000</td>\n",
       "      <td>122.000</td>\n",
       "      <td>12.000</td>\n",
       "    </tr>\n",
       "    <tr>\n",
       "      <th>57</th>\n",
       "      <td>Cheektowaga Town4</td>\n",
       "      <td>78209.000</td>\n",
       "      <td>202.000</td>\n",
       "      <td>1.000</td>\n",
       "      <td>25.000</td>\n",
       "      <td>nan</td>\n",
       "      <td>66.000</td>\n",
       "      <td>110.000</td>\n",
       "      <td>2699.000</td>\n",
       "      <td>300.000</td>\n",
       "      <td>2324.000</td>\n",
       "      <td>75.000</td>\n",
       "      <td>8.000</td>\n",
       "    </tr>\n",
       "    <tr>\n",
       "      <th>229</th>\n",
       "      <td>Niagara Falls4</td>\n",
       "      <td>49300.000</td>\n",
       "      <td>581.000</td>\n",
       "      <td>3.000</td>\n",
       "      <td>26.000</td>\n",
       "      <td>nan</td>\n",
       "      <td>161.000</td>\n",
       "      <td>391.000</td>\n",
       "      <td>2641.000</td>\n",
       "      <td>650.000</td>\n",
       "      <td>1858.000</td>\n",
       "      <td>133.000</td>\n",
       "      <td>15.000</td>\n",
       "    </tr>\n",
       "    <tr>\n",
       "      <th>299</th>\n",
       "      <td>Schenectady4</td>\n",
       "      <td>65834.000</td>\n",
       "      <td>575.000</td>\n",
       "      <td>5.000</td>\n",
       "      <td>57.000</td>\n",
       "      <td>nan</td>\n",
       "      <td>158.000</td>\n",
       "      <td>355.000</td>\n",
       "      <td>2518.000</td>\n",
       "      <td>642.000</td>\n",
       "      <td>1752.000</td>\n",
       "      <td>124.000</td>\n",
       "      <td>19.000</td>\n",
       "    </tr>\n",
       "    <tr>\n",
       "      <th>130</th>\n",
       "      <td>Greece Town4</td>\n",
       "      <td>97144.000</td>\n",
       "      <td>169.000</td>\n",
       "      <td>1.000</td>\n",
       "      <td>34.000</td>\n",
       "      <td>nan</td>\n",
       "      <td>48.000</td>\n",
       "      <td>86.000</td>\n",
       "      <td>2430.000</td>\n",
       "      <td>296.000</td>\n",
       "      <td>2073.000</td>\n",
       "      <td>61.000</td>\n",
       "      <td>0.000</td>\n",
       "    </tr>\n",
       "    <tr>\n",
       "      <th>338</th>\n",
       "      <td>Utica4</td>\n",
       "      <td>61702.000</td>\n",
       "      <td>402.000</td>\n",
       "      <td>6.000</td>\n",
       "      <td>35.000</td>\n",
       "      <td>nan</td>\n",
       "      <td>124.000</td>\n",
       "      <td>237.000</td>\n",
       "      <td>2366.000</td>\n",
       "      <td>432.000</td>\n",
       "      <td>1826.000</td>\n",
       "      <td>108.000</td>\n",
       "      <td>6.000</td>\n",
       "    </tr>\n",
       "  </tbody>\n",
       "</table>\n",
       "</div>"
      ],
      "text/plain": [
       "                  city  population   violent  murder    rape1  rape2  \\\n",
       "227          New York4 8473938.000 50564.000 333.000 2190.000    nan   \n",
       "38            Buffalo4  258419.000  3174.000  60.000  174.000    nan   \n",
       "283         Rochester4  210347.000  1765.000  27.000  190.000    nan   \n",
       "326          Syracuse4  144534.000  1164.000  20.000   70.000    nan   \n",
       "4              Albany4   98595.000   802.000   8.000   54.000    nan   \n",
       "57   Cheektowaga Town4   78209.000   202.000   1.000   25.000    nan   \n",
       "229     Niagara Falls4   49300.000   581.000   3.000   26.000    nan   \n",
       "299       Schenectady4   65834.000   575.000   5.000   57.000    nan   \n",
       "130       Greece Town4   97144.000   169.000   1.000   34.000    nan   \n",
       "338             Utica4   61702.000   402.000   6.000   35.000    nan   \n",
       "\n",
       "      robbery   ag_aslt   property  burglary      larce  motor_th  arson3  \n",
       "227 16581.000 31460.000 135747.000 15916.000 112107.000  7724.000     nan  \n",
       "38   1277.000  1663.000  12449.000  3119.000   8362.000   968.000     nan  \n",
       "283   698.000   850.000   8856.000  2125.000   6058.000   673.000 135.000  \n",
       "326   406.000   668.000   5755.000  1404.000   3986.000   365.000  57.000  \n",
       "4     237.000   503.000   3888.000   683.000   3083.000   122.000  12.000  \n",
       "57     66.000   110.000   2699.000   300.000   2324.000    75.000   8.000  \n",
       "229   161.000   391.000   2641.000   650.000   1858.000   133.000  15.000  \n",
       "299   158.000   355.000   2518.000   642.000   1752.000   124.000  19.000  \n",
       "130    48.000    86.000   2430.000   296.000   2073.000    61.000   0.000  \n",
       "338   124.000   237.000   2366.000   432.000   1826.000   108.000   6.000  "
      ]
     },
     "execution_count": 114,
     "metadata": {},
     "output_type": "execute_result"
    }
   ],
   "source": [
    "df_14 = pd.read_excel('table_8_offenses_known_to_law_enforcement_new_york_by_city_2014.xls')\n",
    "\n",
    "df_14.columns = ['city', 'population', 'violent', 'murder', 'rape1', 'rape2', 'robbery', \n",
    "              'ag_aslt', 'property', 'burglary', 'larce', 'motor_th', 'arson3']\n",
    "\n",
    "df_14.sort_values('property', ascending=False).head(10)"
   ]
  },
  {
   "cell_type": "code",
   "execution_count": 115,
   "metadata": {},
   "outputs": [],
   "source": [
    "df_14 = df_14.drop([227, 38, 283, 326, 4])"
   ]
  },
  {
   "cell_type": "code",
   "execution_count": 116,
   "metadata": {},
   "outputs": [],
   "source": [
    "test2014 = df_14[['property','burglary', 'larce']].dropna()"
   ]
  },
  {
   "cell_type": "code",
   "execution_count": 117,
   "metadata": {
    "scrolled": true
   },
   "outputs": [
    {
     "data": {
      "image/png": "[encoded data removed]",
      "text/plain": [
       "<Figure size 1440x432 with 2 Axes>"
      ]
     },
     "metadata": {},
     "output_type": "display_data"
    }
   ],
   "source": [
    "plt.figure(figsize=(20, 6))\n",
    "plt.subplot(1,2,1)\n",
    "plt.scatter(x='property', y='burglary', data=test2014)\n",
    "plt.xlabel('property')\n",
    "plt.ylabel('burglary')\n",
    "plt.subplot(1,2,2)\n",
    "plt.scatter(x='property', y='larce', data=test2014)\n",
    "plt.xlabel('property')\n",
    "plt.ylabel('larce')\n",
    "plt.show()"
   ]
  },
  {
   "cell_type": "code",
   "execution_count": 118,
   "metadata": {},
   "outputs": [
    {
     "name": "stdout",
     "output_type": "stream",
     "text": [
      "\n",
      "Coefficients: \n",
      " [[1.22831701 0.99988778]]\n",
      "\n",
      "Intercept: \n",
      " [-1.02650837]\n",
      "\n",
      "R-squared:\n",
      "0.9994296229116891\n"
     ]
    }
   ],
   "source": [
    "# Instantiate and fit our model.\n",
    "regr = linear_model.LinearRegression()\n",
    "Y = test2014['property'].values.reshape(-1, 1)\n",
    "X = test2014[['burglary','larce']]\n",
    "regr.fit(X, Y)\n",
    "\n",
    "# Inspect the results.\n",
    "print('\\nCoefficients: \\n', regr.coef_)\n",
    "print('\\nIntercept: \\n', regr.intercept_)\n",
    "print('\\nR-squared:')\n",
    "print(regr.score(X, Y))"
   ]
  },
  {
   "cell_type": "code",
   "execution_count": 119,
   "metadata": {},
   "outputs": [
    {
     "data": {
      "text/html": [
       "<div>\n",
       "<style scoped>\n",
       "    .dataframe tbody tr th:only-of-type {\n",
       "        vertical-align: middle;\n",
       "    }\n",
       "\n",
       "    .dataframe tbody tr th {\n",
       "        vertical-align: top;\n",
       "    }\n",
       "\n",
       "    .dataframe thead th {\n",
       "        text-align: right;\n",
       "    }\n",
       "</style>\n",
       "<table border=\"1\" class=\"dataframe\">\n",
       "  <thead>\n",
       "    <tr style=\"text-align: right;\">\n",
       "      <th></th>\n",
       "      <th>0</th>\n",
       "      <th>1</th>\n",
       "    </tr>\n",
       "  </thead>\n",
       "  <tbody>\n",
       "    <tr>\n",
       "      <th>Intercept</th>\n",
       "      <td>-2.291</td>\n",
       "      <td>0.238</td>\n",
       "    </tr>\n",
       "    <tr>\n",
       "      <th>burglary</th>\n",
       "      <td>1.202</td>\n",
       "      <td>1.255</td>\n",
       "    </tr>\n",
       "    <tr>\n",
       "      <th>larce</th>\n",
       "      <td>0.994</td>\n",
       "      <td>1.006</td>\n",
       "    </tr>\n",
       "  </tbody>\n",
       "</table>\n",
       "</div>"
      ],
      "text/plain": [
       "               0     1\n",
       "Intercept -2.291 0.238\n",
       "burglary   1.202 1.255\n",
       "larce      0.994 1.006"
      ]
     },
     "execution_count": 119,
     "metadata": {},
     "output_type": "execute_result"
    }
   ],
   "source": [
    "# Write out the model formula.\n",
    "linear_formula = 'property ~ burglary+larce'\n",
    "\n",
    "# Fit the model to our data using the formula.\n",
    "lm = smf.ols(formula=linear_formula, data=test2014).fit()\n",
    "\n",
    "lm.conf_int()"
   ]
  },
  {
   "cell_type": "code",
   "execution_count": 120,
   "metadata": {},
   "outputs": [
    {
     "data": {
      "image/png": "[encoded data removed]",
      "text/plain": [
       "<Figure size 432x288 with 1 Axes>"
      ]
     },
     "metadata": {},
     "output_type": "display_data"
    }
   ],
   "source": [
    "# Use wls_prediction_std to build confidence intervals\n",
    "prstd, iv_l, iv_u = wls_prediction_std(lm)\n",
    "\n",
    "plt.figure()\n",
    "plt.plot(iv_u[0:15], 'o', color='r', alpha=.75)\n",
    "plt.plot(iv_l[0:15], 'o', color='r', alpha=.75)\n",
    "plt.plot(lm.fittedvalues[0:15], 'o', color='b')\n",
    "plt.title('blue: predicted, red: 95% CI')\n",
    "plt.show()"
   ]
  },
  {
   "cell_type": "markdown",
   "metadata": {},
   "source": [
    "### Conclusion\n",
    "\n",
    "Using the features Larceny Theft and Burglary, you can predict the property crime rate of a city with a very high degree of confidence. Any original fears I had of the model overfitting were relieved when testing the model both on the test set and on a different year's crime data. \n",
    "\n",
    "As a possible next step, I would consider testing the model on different states other than New York State. Possibly a state with a larger amount of larger & medium sized cities and see if the relationship between the features is consistent."
   ]
  },
  {
   "cell_type": "code",
   "execution_count": null,
   "metadata": {},
   "outputs": [],
   "source": []
  }
 ],
 "metadata": {
  "kernelspec": {
   "display_name": "Python 3",
   "language": "python",
   "name": "python3"
  },
  "language_info": {
   "codemirror_mode": {
    "name": "ipython",
    "version": 3
   },
   "file_extension": ".py",
   "mimetype": "text/x-python",
   "name": "python",
   "nbconvert_exporter": "python",
   "pygments_lexer": "ipython3",
   "version": "3.7.0"
  }
 },
 "nbformat": 4,
 "nbformat_minor": 2
}
